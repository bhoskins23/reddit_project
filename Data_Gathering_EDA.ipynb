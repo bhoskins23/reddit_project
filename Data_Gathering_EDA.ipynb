{
 "cells": [
  {
   "cell_type": "code",
   "execution_count": 108,
   "metadata": {},
   "outputs": [],
   "source": [
    "# Imports\n",
    "import pandas as pd\n",
    "import matplotlib.pyplot as plt\n",
    "import requests\n",
    "from sklearn.feature_extraction.text import CountVectorizer\n",
    "import string\n",
    "from nltk.corpus import stopwords\n",
    "from nltk.stem import PorterStemmer"
   ]
  },
  {
   "cell_type": "markdown",
   "metadata": {},
   "source": [
    "## Getting Baseball Subreddit Data with Pushshift API"
   ]
  },
  {
   "cell_type": "code",
   "execution_count": 36,
   "metadata": {},
   "outputs": [],
   "source": [
    "url = 'https://api.pushshift.io/reddit/search/submission'"
   ]
  },
  {
   "cell_type": "code",
   "execution_count": 37,
   "metadata": {},
   "outputs": [],
   "source": [
    "params = {\n",
    "    'subreddit': 'baseball',\n",
    "    'size': 100,\n",
    "    'before': 1602622018\n",
    "}"
   ]
  },
  {
   "cell_type": "code",
   "execution_count": 38,
   "metadata": {},
   "outputs": [],
   "source": [
    "res = requests.get(url, params)"
   ]
  },
  {
   "cell_type": "code",
   "execution_count": 39,
   "metadata": {},
   "outputs": [
    {
     "data": {
      "text/plain": [
       "200"
      ]
     },
     "execution_count": 39,
     "metadata": {},
     "output_type": "execute_result"
    }
   ],
   "source": [
    "res.status_code"
   ]
  },
  {
   "cell_type": "code",
   "execution_count": 40,
   "metadata": {},
   "outputs": [],
   "source": [
    "data = res.json()"
   ]
  },
  {
   "cell_type": "code",
   "execution_count": 41,
   "metadata": {},
   "outputs": [],
   "source": [
    "posts = data['data']"
   ]
  },
  {
   "cell_type": "code",
   "execution_count": 42,
   "metadata": {},
   "outputs": [
    {
     "data": {
      "text/plain": [
       "100"
      ]
     },
     "execution_count": 42,
     "metadata": {},
     "output_type": "execute_result"
    }
   ],
   "source": [
    "len(posts)"
   ]
  },
  {
   "cell_type": "code",
   "execution_count": 43,
   "metadata": {},
   "outputs": [
    {
     "data": {
      "text/plain": [
       "{'all_awardings': [],\n",
       " 'allow_live_comments': False,\n",
       " 'author': 'BaseballBot',\n",
       " 'author_flair_css_class': 'umpire',\n",
       " 'author_flair_richtext': [{'e': 'text', 't': 'Umpire '},\n",
       "  {'a': ':ump:',\n",
       "   'e': 'emoji',\n",
       "   'u': 'https://emoji.redditmedia.com/2vyihn7jinp01_t5_2qm7u/ump'}],\n",
       " 'author_flair_template_id': '49851e96-e77f-11e6-916c-0ee663c6ce46',\n",
       " 'author_flair_text': 'Umpire :ump:',\n",
       " 'author_flair_text_color': 'dark',\n",
       " 'author_flair_type': 'richtext',\n",
       " 'author_fullname': 't2_8364z',\n",
       " 'author_patreon_flair': False,\n",
       " 'author_premium': True,\n",
       " 'awarders': [],\n",
       " 'can_mod_post': False,\n",
       " 'contest_mode': False,\n",
       " 'created_utc': 1602559928,\n",
       " 'domain': 'self.baseball',\n",
       " 'full_link': 'https://www.reddit.com/r/baseball/comments/ja5qmu/postgame_thread_braves_5_dodgers_1/',\n",
       " 'gildings': {},\n",
       " 'id': 'ja5qmu',\n",
       " 'is_crosspostable': True,\n",
       " 'is_meta': False,\n",
       " 'is_original_content': False,\n",
       " 'is_reddit_media_domain': False,\n",
       " 'is_robot_indexable': True,\n",
       " 'is_self': True,\n",
       " 'is_video': False,\n",
       " 'link_flair_background_color': '',\n",
       " 'link_flair_css_class': 'liv',\n",
       " 'link_flair_richtext': [{'e': 'text', 't': 'Game Thread'}],\n",
       " 'link_flair_text': 'Game Thread',\n",
       " 'link_flair_text_color': 'dark',\n",
       " 'link_flair_type': 'richtext',\n",
       " 'locked': False,\n",
       " 'media_only': False,\n",
       " 'no_follow': True,\n",
       " 'num_comments': 988,\n",
       " 'num_crossposts': 0,\n",
       " 'over_18': False,\n",
       " 'parent_whitelist_status': 'all_ads',\n",
       " 'permalink': '/r/baseball/comments/ja5qmu/postgame_thread_braves_5_dodgers_1/',\n",
       " 'pinned': False,\n",
       " 'post_hint': 'self',\n",
       " 'preview': {'enabled': False,\n",
       "  'images': [{'id': 'Ys9R6h9DF-UHo2S1oHjf6I0hZApxXQvw_ClTyTOSaFA',\n",
       "    'resolutions': [{'height': 56,\n",
       "      'url': 'https://external-preview.redd.it/VefXLQ1O5LxaJwMM-NrIuOWAIdP-Ad5VQZHyRRavzos.jpg?width=108&amp;crop=smart&amp;auto=webp&amp;s=21fb317f1e67b6ccdc611d1a72eaf1432f826f37',\n",
       "      'width': 108},\n",
       "     {'height': 113,\n",
       "      'url': 'https://external-preview.redd.it/VefXLQ1O5LxaJwMM-NrIuOWAIdP-Ad5VQZHyRRavzos.jpg?width=216&amp;crop=smart&amp;auto=webp&amp;s=9a62245ccf0dd81d7c2ca798446e8416fe46c165',\n",
       "      'width': 216},\n",
       "     {'height': 168,\n",
       "      'url': 'https://external-preview.redd.it/VefXLQ1O5LxaJwMM-NrIuOWAIdP-Ad5VQZHyRRavzos.jpg?width=320&amp;crop=smart&amp;auto=webp&amp;s=eccf20437c4136c6828f4af947245bfc167eb8d8',\n",
       "      'width': 320},\n",
       "     {'height': 336,\n",
       "      'url': 'https://external-preview.redd.it/VefXLQ1O5LxaJwMM-NrIuOWAIdP-Ad5VQZHyRRavzos.jpg?width=640&amp;crop=smart&amp;auto=webp&amp;s=8d34d65b5eeb552903823bae9a3b5ec24a850ecd',\n",
       "      'width': 640},\n",
       "     {'height': 504,\n",
       "      'url': 'https://external-preview.redd.it/VefXLQ1O5LxaJwMM-NrIuOWAIdP-Ad5VQZHyRRavzos.jpg?width=960&amp;crop=smart&amp;auto=webp&amp;s=a1b8030bb4032603c14a83ea45de291fa8814dcf',\n",
       "      'width': 960},\n",
       "     {'height': 567,\n",
       "      'url': 'https://external-preview.redd.it/VefXLQ1O5LxaJwMM-NrIuOWAIdP-Ad5VQZHyRRavzos.jpg?width=1080&amp;crop=smart&amp;auto=webp&amp;s=8119bad3b4f42ae2945a475cf3b143da7d3ce0c0',\n",
       "      'width': 1080}],\n",
       "    'source': {'height': 893,\n",
       "     'url': 'https://external-preview.redd.it/VefXLQ1O5LxaJwMM-NrIuOWAIdP-Ad5VQZHyRRavzos.jpg?auto=webp&amp;s=0059709c9e63f913652fd5a3ae6b26660f23a114',\n",
       "     'width': 1700},\n",
       "    'variants': {}}]},\n",
       " 'pwls': 6,\n",
       " 'retrieved_on': 1602559939,\n",
       " 'score': 1,\n",
       " 'selftext': '### Line Score - Final\\n\\n| |1|2|3|4|5|6|7|8|9|R|H|E\\n|:-:|:-:|:-:|:-:|:-:|:-:|:-:|:-:|:-:|:-:|:-:|:-:|:-:\\n|[ATL](/ATL)|1|0|0|0|0|0|0|0|4|**5**|**8**|**0**\\n|[LAD](/LAD)|0|0|0|0|1|0|0|0|0|**1**|**4**|**0**\\n\\n### Box Score\\n\\n**LAD**||AB|R|H|RBI|BB|SO|BA||**ATL**||AB|R|H|RBI|BB|SO|BA\\n-|-|:-:|:-:|:-:|:-:|:-:|:-:|:-:|:-:|-|-|:-:|:-:|:-:|:-:|:-:|:-:|:-:\\n**RF**|[Betts](http://mlb.mlb.com/team/player.jsp?player_id=605141)|4|0|0|0|0|1|.000||**CF**|[Acuña Jr.](http://mlb.mlb.com/team/player.jsp?player_id=660670)|5|1|1|0|0|2|.200\\n**SS**|[Seager, C](http://mlb.mlb.com/team/player.jsp?player_id=608369)|4|0|1|0|0|2|.250||**1B**|[Freeman](http://mlb.mlb.com/team/player.jsp?player_id=518692)|4|1|1|1|1|0|.250\\n**3B**|[Turner](http://mlb.mlb.com/team/player.jsp?player_id=457759)|4|0|1|0|0|1|.250||**DH**|[Ozuna](http://mlb.mlb.com/team/player.jsp?player_id=542303)|5|1|2|1|0|0|.400\\n**1B**|[Muncy](http://mlb.mlb.com/team/player.jsp?player_id=571970)|3|0|0|0|1|2|.000||**C**|[d\\'Arnaud](http://mlb.mlb.com/team/player.jsp?player_id=518595)|4|0|1|0|1|0|.250\\n**C**|[Smith, W](http://mlb.mlb.com/team/player.jsp?player_id=669257)|4|0|0|0|0|2|.000||**2B**|[Albies](http://mlb.mlb.com/team/player.jsp?player_id=645277)|5|1|2|2|0|2|.400\\n**CF**|[Bellinger](http://mlb.mlb.com/team/player.jsp?player_id=641355)|4|0|0|0|0|1|.000||**SS**|[Swanson](http://mlb.mlb.com/team/player.jsp?player_id=621020)|3|0|0|0|2|2|.000\\n**DH**|[Pollock](http://mlb.mlb.com/team/player.jsp?player_id=572041)|3|0|1|0|0|0|.333||**LF**|[Duvall](http://mlb.mlb.com/team/player.jsp?player_id=594807)|0|0|0|0|0|0|.000\\n**2B**|[Hernández, K](http://mlb.mlb.com/team/player.jsp?player_id=571771)|3|1|1|1|0|1|.333||[](/spacer)CF|[](/spacer)[Pache](http://mlb.mlb.com/team/player.jsp?player_id=665506)|1|0|0|0|2|1|.000\\n**LF**|[Taylor, Ch](http://mlb.mlb.com/team/player.jsp?player_id=621035)|2|0|0|0|1|1|.000||[](/spacer)3B|[](/spacer)[Sandoval](http://mlb.mlb.com/team/player.jsp?player_id=467055)|0|0|0|0|0|0|.000\\n ||||||||||**LF**|[Markakis](http://mlb.mlb.com/team/player.jsp?player_id=455976)|3|0|0|0|0|2|.000\\n ||||||||||[](/spacer)RF|[](/spacer)[Culberson](http://mlb.mlb.com/team/player.jsp?player_id=518586)|1|0|0|0|0|1|.000\\n ||||||||||**LF**|[Riley, A](http://mlb.mlb.com/team/player.jsp?player_id=663586)|4|1|1|1|0|2|.250\\n\\n**LAD**|IP|H|R|ER|BB|SO|P-S|ERA||**ATL**|IP|H|R|ER|BB|SO|P-S|ERA\\n-|:-:|:-:|:-:|:-:|:-:|:-:|:-:|:-:|:-:|-|:-:|:-:|:-:|:-:|:-:|:-:|:-:|:-:\\n[Buehler](http://mlb.mlb.com/team/player.jsp?player_id=621111 \"Game Score: ???\")|5.0|3|1|1|5|7|100-64|1.80||[Fried](http://mlb.mlb.com/team/player.jsp?player_id=608331 \"Game Score: ???\")|6.0|4|1|1|2|9|96-64|1.50\\n[Graterol, B](http://mlb.mlb.com/team/player.jsp?player_id=660813 \"Game Score: ???\")|1.0|0|0|0|0|1|6-5|0.00||[Martin](http://mlb.mlb.com/team/player.jsp?player_id=455119 \"Game Score: ???\")|1.0|0|0|0|0|1|14-11|0.00\\n[May](http://mlb.mlb.com/team/player.jsp?player_id=669160 \"Game Score: ???\")|1.2|1|0|0|1|2|21-14|0.00||[Smith, W](http://mlb.mlb.com/team/player.jsp?player_id=519293 \"Game Score: ???\")|1.0|0|0|0|0|1|13-9|0.00\\n[González, V](http://mlb.mlb.com/team/player.jsp?player_id=624647 \"Game Score: ???\")|0.1|0|0|0|0|1|4-4|0.00||[Melancon](http://mlb.mlb.com/team/player.jsp?player_id=453343 \"Game Score: ???\")|1.0|0|0|0|0|0|9-8|0.00\\n[Treinen](http://mlb.mlb.com/team/player.jsp?player_id=595014 \"Game Score: ???\")|0.1|3|3|3|0|0|20-14|81.00|| ||||||||\\n[McGee](http://mlb.mlb.com/team/player.jsp?player_id=459429 \"Game Score: ???\")|0.2|1|1|1|0|1|11-9|13.50|| ||||||||\\n\\n### Scoring Plays\\n\\nInning|Event|Score\\n:-:|-|:-:\\nT1|Freddie Freeman homers (1) on a fly ball to right center field.  |0-**1**\\nB5|Enrique Hernandez homers (1) on a fly ball to left field.  |**1**-1\\nT9|Austin Riley homers (1) on a line drive to center field.  |1-**2**\\nT9|Marcell Ozuna singles on a line drive to right fielder Mookie Betts.   Ronald Acuna scores.  |1-**3**\\nT9|Ozzie Albies homers (1) on a fly ball to left center field.   Marcell Ozuna scores.  |1-**5**\\n\\n### Highlights\\n\\nDescription|Length|HD\\n-|-|-\\nAndrew Friedman discusses roster depth in the NLCS|1:12|[HD](https://mlb-cuts-diamond.mlb.com/FORGE/2020/2020-10/12/bb87c963-3d3221f7-d2ceb228-csvm-diamondx64-asset_1280x720_59_4000K.mp4)\\nFreddie Freeman smashes a solo home run in the 1st|0:12|[HD](https://mlb-cuts-diamond.mlb.com/FORGE/2020/2020-10/12/0b2522fb-4e5065cb-10f57df9-csvm-diamondx64-asset_1280x720_59_4000K.mp4)\\nOzzie Albies dives and nabs Cody Bellinger at first|0:13|[HD](https://mlb-cuts-diamond.mlb.com/FORGE/2020/2020-10/12/16075189-7c00a67d-4b2f430d-csvm-diamondx64-asset_1280x720_59_4000K.mp4)\\nWalker Buehler gets flyout, strands two in 4th|0:13|[HD](https://mlb-cuts-diamond.mlb.com/FORGE/2020/2020-10/12/ef59aa7b-518b624e-1f4e5c8e-csvm-diamondx64-asset_1280x720_59_4000K.mp4)\\nEnrique Hernández rocks a solo home run to left field|0:15|[HD](https://mlb-cuts-diamond.mlb.com/FORGE/2020/2020-10/12/a45a3b5d-cca60c89-fe2cc504-csvm-diamondx64-asset_1280x720_59_4000K.mp4)\\nBrusdar Graterol comes in, strands two in 6th|0:20|[HD](https://mlb-cuts-diamond.mlb.com/FORGE/2020/2020-10/12/94c21732-383a39af-3286605d-csvm-diamondx64-asset_1280x720_59_4000K.mp4)\\nMax Fried pitches a dominant 1-2-3 6th inning|0:19|[HD](https://mlb-cuts-diamond.mlb.com/FORGE/2020/2020-10/12/0637b132-fca9874a-6594c7b9-csvm-diamondx64-asset_1280x720_59_4000K.mp4)\\nVictor González leaves bases loaded in 8th with K|0:15|[HD](https://mlb-cuts-diamond.mlb.com/FORGE/2020/2020-10/12/6bd6f1dc-7099a7a6-55680f3c-csvm-diamondx64-asset_1280x720_59_4000K.mp4)\\nAustin Riley belts a go-ahead home run in the 9th|0:14|[HD](https://mlb-cuts-diamond.mlb.com/FORGE/2020/2020-10/12/65dd89e1-95b07bbb-6e0e79b8-csvm-diamondx64-asset_1280x720_59_4000K.mp4)\\nDustin May strikes out Ozzie Albies swinging in 8th|0:15|[HD](https://mlb-cuts-diamond.mlb.com/FORGE/2020/2020-10/12/dbbc3c13-df6739ff-406f84f0-csvm-diamondx64-asset_1280x720_59_4000K.mp4)\\nMarcell Ozuna plates Acuña Jr. on RBI single in 9th|0:15|[HD](https://mlb-cuts-diamond.mlb.com/FORGE/2020/2020-10/12/1061249c-d4f06e16-c7dc0e2b-csvm-diamondx64-asset_1280x720_59_4000K.mp4)\\nOzzie Albies mashes a two-run home run in the 9th|0:13|[HD](https://mlb-cuts-diamond.mlb.com/FORGE/2020/2020-10/12/e6923d31-9c375be9-905cd147-csvm-diamondx64-asset_1280x720_59_4000K.mp4)\\n\\n\\n\\n### Decisions\\n\\nWinning Pitcher|Losing Pitcher|Save\\n:-:|:-:|:-:\\nSmith, W (1-0, 0.00)|Treinen (0-1, 81.00)|\\n\\n*Game ended at 11:32 PM.*',\n",
       " 'send_replies': False,\n",
       " 'spoiler': False,\n",
       " 'stickied': False,\n",
       " 'subreddit': 'baseball',\n",
       " 'subreddit_id': 't5_2qm7u',\n",
       " 'subreddit_subscribers': 1397727,\n",
       " 'subreddit_type': 'public',\n",
       " 'thumbnail': 'self',\n",
       " 'title': 'Postgame Thread ⚾ Braves 5 @ Dodgers 1',\n",
       " 'total_awards_received': 0,\n",
       " 'treatment_tags': [],\n",
       " 'upvote_ratio': 1.0,\n",
       " 'url': 'https://www.reddit.com/r/baseball/comments/ja5qmu/postgame_thread_braves_5_dodgers_1/',\n",
       " 'whitelist_status': 'all_ads',\n",
       " 'wls': 6}"
      ]
     },
     "execution_count": 43,
     "metadata": {},
     "output_type": "execute_result"
    }
   ],
   "source": [
    "posts[99]"
   ]
  },
  {
   "cell_type": "code",
   "execution_count": 44,
   "metadata": {
    "scrolled": true
   },
   "outputs": [
    {
     "name": "stdout",
     "output_type": "stream",
     "text": [
      "(100, 77)\n"
     ]
    },
    {
     "data": {
      "text/html": [
       "<div>\n",
       "<style scoped>\n",
       "    .dataframe tbody tr th:only-of-type {\n",
       "        vertical-align: middle;\n",
       "    }\n",
       "\n",
       "    .dataframe tbody tr th {\n",
       "        vertical-align: top;\n",
       "    }\n",
       "\n",
       "    .dataframe thead th {\n",
       "        text-align: right;\n",
       "    }\n",
       "</style>\n",
       "<table border=\"1\" class=\"dataframe\">\n",
       "  <thead>\n",
       "    <tr style=\"text-align: right;\">\n",
       "      <th></th>\n",
       "      <th>subreddit</th>\n",
       "      <th>selftext</th>\n",
       "      <th>title</th>\n",
       "    </tr>\n",
       "  </thead>\n",
       "  <tbody>\n",
       "    <tr>\n",
       "      <th>0</th>\n",
       "      <td>baseball</td>\n",
       "      <td></td>\n",
       "      <td>[Nightengale] Dusty Baker says his players are...</td>\n",
       "    </tr>\n",
       "    <tr>\n",
       "      <th>1</th>\n",
       "      <td>baseball</td>\n",
       "      <td></td>\n",
       "      <td>Dodgers Clayton Kershaw Scratched from Game 2,...</td>\n",
       "    </tr>\n",
       "    <tr>\n",
       "      <th>2</th>\n",
       "      <td>baseball</td>\n",
       "      <td></td>\n",
       "      <td>Dodgers Clayton Kershaw Scratched from Game 2 ...</td>\n",
       "    </tr>\n",
       "    <tr>\n",
       "      <th>3</th>\n",
       "      <td>baseball</td>\n",
       "      <td></td>\n",
       "      <td>[Giglio] \"2016 was pretty much a skim milk yea...</td>\n",
       "    </tr>\n",
       "    <tr>\n",
       "      <th>4</th>\n",
       "      <td>baseball</td>\n",
       "      <td></td>\n",
       "      <td>Back spasms sidelined Clayton Kershaw but hope...</td>\n",
       "    </tr>\n",
       "  </tbody>\n",
       "</table>\n",
       "</div>"
      ],
      "text/plain": [
       "  subreddit selftext                                              title\n",
       "0  baseball           [Nightengale] Dusty Baker says his players are...\n",
       "1  baseball           Dodgers Clayton Kershaw Scratched from Game 2,...\n",
       "2  baseball           Dodgers Clayton Kershaw Scratched from Game 2 ...\n",
       "3  baseball           [Giglio] \"2016 was pretty much a skim milk yea...\n",
       "4  baseball           Back spasms sidelined Clayton Kershaw but hope..."
      ]
     },
     "execution_count": 44,
     "metadata": {},
     "output_type": "execute_result"
    }
   ],
   "source": [
    "df = pd.DataFrame(posts)\n",
    "print(df.shape)\n",
    "df[['subreddit', 'selftext', 'title']].head()"
   ]
  },
  {
   "cell_type": "code",
   "execution_count": 45,
   "metadata": {},
   "outputs": [
    {
     "name": "stdout",
     "output_type": "stream",
     "text": [
      "(100, 77)\n"
     ]
    },
    {
     "data": {
      "text/html": [
       "<div>\n",
       "<style scoped>\n",
       "    .dataframe tbody tr th:only-of-type {\n",
       "        vertical-align: middle;\n",
       "    }\n",
       "\n",
       "    .dataframe tbody tr th {\n",
       "        vertical-align: top;\n",
       "    }\n",
       "\n",
       "    .dataframe thead th {\n",
       "        text-align: right;\n",
       "    }\n",
       "</style>\n",
       "<table border=\"1\" class=\"dataframe\">\n",
       "  <thead>\n",
       "    <tr style=\"text-align: right;\">\n",
       "      <th></th>\n",
       "      <th>subreddit</th>\n",
       "      <th>selftext</th>\n",
       "      <th>title</th>\n",
       "    </tr>\n",
       "  </thead>\n",
       "  <tbody>\n",
       "    <tr>\n",
       "      <th>0</th>\n",
       "      <td>baseball</td>\n",
       "      <td></td>\n",
       "      <td>[Nightengale] Dusty Baker says his players are...</td>\n",
       "    </tr>\n",
       "    <tr>\n",
       "      <th>1</th>\n",
       "      <td>baseball</td>\n",
       "      <td></td>\n",
       "      <td>Dodgers Clayton Kershaw Scratched from Game 2,...</td>\n",
       "    </tr>\n",
       "    <tr>\n",
       "      <th>2</th>\n",
       "      <td>baseball</td>\n",
       "      <td></td>\n",
       "      <td>Dodgers Clayton Kershaw Scratched from Game 2 ...</td>\n",
       "    </tr>\n",
       "    <tr>\n",
       "      <th>3</th>\n",
       "      <td>baseball</td>\n",
       "      <td></td>\n",
       "      <td>[Giglio] \"2016 was pretty much a skim milk yea...</td>\n",
       "    </tr>\n",
       "    <tr>\n",
       "      <th>4</th>\n",
       "      <td>baseball</td>\n",
       "      <td></td>\n",
       "      <td>Back spasms sidelined Clayton Kershaw but hope...</td>\n",
       "    </tr>\n",
       "  </tbody>\n",
       "</table>\n",
       "</div>"
      ],
      "text/plain": [
       "  subreddit selftext                                              title\n",
       "0  baseball           [Nightengale] Dusty Baker says his players are...\n",
       "1  baseball           Dodgers Clayton Kershaw Scratched from Game 2,...\n",
       "2  baseball           Dodgers Clayton Kershaw Scratched from Game 2 ...\n",
       "3  baseball           [Giglio] \"2016 was pretty much a skim milk yea...\n",
       "4  baseball           Back spasms sidelined Clayton Kershaw but hope..."
      ]
     },
     "execution_count": 45,
     "metadata": {},
     "output_type": "execute_result"
    }
   ],
   "source": [
    "df2 = pd.DataFrame(posts)\n",
    "\n",
    "print(df2.shape)\n",
    "\n",
    "df2[['subreddit', 'selftext', 'title']].head()"
   ]
  },
  {
   "cell_type": "code",
   "execution_count": 46,
   "metadata": {
    "scrolled": true
   },
   "outputs": [
    {
     "name": "stdout",
     "output_type": "stream",
     "text": [
      "(100, 77)\n"
     ]
    },
    {
     "data": {
      "text/html": [
       "<div>\n",
       "<style scoped>\n",
       "    .dataframe tbody tr th:only-of-type {\n",
       "        vertical-align: middle;\n",
       "    }\n",
       "\n",
       "    .dataframe tbody tr th {\n",
       "        vertical-align: top;\n",
       "    }\n",
       "\n",
       "    .dataframe thead th {\n",
       "        text-align: right;\n",
       "    }\n",
       "</style>\n",
       "<table border=\"1\" class=\"dataframe\">\n",
       "  <thead>\n",
       "    <tr style=\"text-align: right;\">\n",
       "      <th></th>\n",
       "      <th>subreddit</th>\n",
       "      <th>selftext</th>\n",
       "      <th>title</th>\n",
       "    </tr>\n",
       "  </thead>\n",
       "  <tbody>\n",
       "    <tr>\n",
       "      <th>0</th>\n",
       "      <td>baseball</td>\n",
       "      <td></td>\n",
       "      <td>[Nightengale] Dusty Baker says his players are...</td>\n",
       "    </tr>\n",
       "    <tr>\n",
       "      <th>1</th>\n",
       "      <td>baseball</td>\n",
       "      <td></td>\n",
       "      <td>Dodgers Clayton Kershaw Scratched from Game 2,...</td>\n",
       "    </tr>\n",
       "    <tr>\n",
       "      <th>2</th>\n",
       "      <td>baseball</td>\n",
       "      <td></td>\n",
       "      <td>Dodgers Clayton Kershaw Scratched from Game 2 ...</td>\n",
       "    </tr>\n",
       "    <tr>\n",
       "      <th>3</th>\n",
       "      <td>baseball</td>\n",
       "      <td></td>\n",
       "      <td>[Giglio] \"2016 was pretty much a skim milk yea...</td>\n",
       "    </tr>\n",
       "    <tr>\n",
       "      <th>4</th>\n",
       "      <td>baseball</td>\n",
       "      <td></td>\n",
       "      <td>Back spasms sidelined Clayton Kershaw but hope...</td>\n",
       "    </tr>\n",
       "  </tbody>\n",
       "</table>\n",
       "</div>"
      ],
      "text/plain": [
       "  subreddit selftext                                              title\n",
       "0  baseball           [Nightengale] Dusty Baker says his players are...\n",
       "1  baseball           Dodgers Clayton Kershaw Scratched from Game 2,...\n",
       "2  baseball           Dodgers Clayton Kershaw Scratched from Game 2 ...\n",
       "3  baseball           [Giglio] \"2016 was pretty much a skim milk yea...\n",
       "4  baseball           Back spasms sidelined Clayton Kershaw but hope..."
      ]
     },
     "execution_count": 46,
     "metadata": {},
     "output_type": "execute_result"
    }
   ],
   "source": [
    "df3 = pd.DataFrame(posts)\n",
    "print(df3.shape)\n",
    "df3[['subreddit', 'selftext', 'title']].head()"
   ]
  },
  {
   "cell_type": "code",
   "execution_count": 47,
   "metadata": {},
   "outputs": [
    {
     "name": "stdout",
     "output_type": "stream",
     "text": [
      "(100, 77)\n"
     ]
    },
    {
     "data": {
      "text/html": [
       "<div>\n",
       "<style scoped>\n",
       "    .dataframe tbody tr th:only-of-type {\n",
       "        vertical-align: middle;\n",
       "    }\n",
       "\n",
       "    .dataframe tbody tr th {\n",
       "        vertical-align: top;\n",
       "    }\n",
       "\n",
       "    .dataframe thead th {\n",
       "        text-align: right;\n",
       "    }\n",
       "</style>\n",
       "<table border=\"1\" class=\"dataframe\">\n",
       "  <thead>\n",
       "    <tr style=\"text-align: right;\">\n",
       "      <th></th>\n",
       "      <th>subreddit</th>\n",
       "      <th>selftext</th>\n",
       "      <th>title</th>\n",
       "    </tr>\n",
       "  </thead>\n",
       "  <tbody>\n",
       "    <tr>\n",
       "      <th>0</th>\n",
       "      <td>baseball</td>\n",
       "      <td></td>\n",
       "      <td>[Nightengale] Dusty Baker says his players are...</td>\n",
       "    </tr>\n",
       "    <tr>\n",
       "      <th>1</th>\n",
       "      <td>baseball</td>\n",
       "      <td></td>\n",
       "      <td>Dodgers Clayton Kershaw Scratched from Game 2,...</td>\n",
       "    </tr>\n",
       "    <tr>\n",
       "      <th>2</th>\n",
       "      <td>baseball</td>\n",
       "      <td></td>\n",
       "      <td>Dodgers Clayton Kershaw Scratched from Game 2 ...</td>\n",
       "    </tr>\n",
       "    <tr>\n",
       "      <th>3</th>\n",
       "      <td>baseball</td>\n",
       "      <td></td>\n",
       "      <td>[Giglio] \"2016 was pretty much a skim milk yea...</td>\n",
       "    </tr>\n",
       "    <tr>\n",
       "      <th>4</th>\n",
       "      <td>baseball</td>\n",
       "      <td></td>\n",
       "      <td>Back spasms sidelined Clayton Kershaw but hope...</td>\n",
       "    </tr>\n",
       "  </tbody>\n",
       "</table>\n",
       "</div>"
      ],
      "text/plain": [
       "  subreddit selftext                                              title\n",
       "0  baseball           [Nightengale] Dusty Baker says his players are...\n",
       "1  baseball           Dodgers Clayton Kershaw Scratched from Game 2,...\n",
       "2  baseball           Dodgers Clayton Kershaw Scratched from Game 2 ...\n",
       "3  baseball           [Giglio] \"2016 was pretty much a skim milk yea...\n",
       "4  baseball           Back spasms sidelined Clayton Kershaw but hope..."
      ]
     },
     "execution_count": 47,
     "metadata": {},
     "output_type": "execute_result"
    }
   ],
   "source": [
    "df4 = pd.DataFrame(posts)\n",
    "print(df4.shape)\n",
    "df4[['subreddit', 'selftext', 'title']].head()"
   ]
  },
  {
   "cell_type": "code",
   "execution_count": 48,
   "metadata": {},
   "outputs": [
    {
     "name": "stdout",
     "output_type": "stream",
     "text": [
      "(100, 77)\n"
     ]
    },
    {
     "data": {
      "text/html": [
       "<div>\n",
       "<style scoped>\n",
       "    .dataframe tbody tr th:only-of-type {\n",
       "        vertical-align: middle;\n",
       "    }\n",
       "\n",
       "    .dataframe tbody tr th {\n",
       "        vertical-align: top;\n",
       "    }\n",
       "\n",
       "    .dataframe thead th {\n",
       "        text-align: right;\n",
       "    }\n",
       "</style>\n",
       "<table border=\"1\" class=\"dataframe\">\n",
       "  <thead>\n",
       "    <tr style=\"text-align: right;\">\n",
       "      <th></th>\n",
       "      <th>subreddit</th>\n",
       "      <th>selftext</th>\n",
       "      <th>title</th>\n",
       "    </tr>\n",
       "  </thead>\n",
       "  <tbody>\n",
       "    <tr>\n",
       "      <th>0</th>\n",
       "      <td>baseball</td>\n",
       "      <td></td>\n",
       "      <td>[Nightengale] Dusty Baker says his players are...</td>\n",
       "    </tr>\n",
       "    <tr>\n",
       "      <th>1</th>\n",
       "      <td>baseball</td>\n",
       "      <td></td>\n",
       "      <td>Dodgers Clayton Kershaw Scratched from Game 2,...</td>\n",
       "    </tr>\n",
       "    <tr>\n",
       "      <th>2</th>\n",
       "      <td>baseball</td>\n",
       "      <td></td>\n",
       "      <td>Dodgers Clayton Kershaw Scratched from Game 2 ...</td>\n",
       "    </tr>\n",
       "    <tr>\n",
       "      <th>3</th>\n",
       "      <td>baseball</td>\n",
       "      <td></td>\n",
       "      <td>[Giglio] \"2016 was pretty much a skim milk yea...</td>\n",
       "    </tr>\n",
       "    <tr>\n",
       "      <th>4</th>\n",
       "      <td>baseball</td>\n",
       "      <td></td>\n",
       "      <td>Back spasms sidelined Clayton Kershaw but hope...</td>\n",
       "    </tr>\n",
       "  </tbody>\n",
       "</table>\n",
       "</div>"
      ],
      "text/plain": [
       "  subreddit selftext                                              title\n",
       "0  baseball           [Nightengale] Dusty Baker says his players are...\n",
       "1  baseball           Dodgers Clayton Kershaw Scratched from Game 2,...\n",
       "2  baseball           Dodgers Clayton Kershaw Scratched from Game 2 ...\n",
       "3  baseball           [Giglio] \"2016 was pretty much a skim milk yea...\n",
       "4  baseball           Back spasms sidelined Clayton Kershaw but hope..."
      ]
     },
     "execution_count": 48,
     "metadata": {},
     "output_type": "execute_result"
    }
   ],
   "source": [
    "df5 = pd.DataFrame(posts)\n",
    "print(df5.shape)\n",
    "df5[['subreddit', 'selftext', 'title']].head()"
   ]
  },
  {
   "cell_type": "code",
   "execution_count": 49,
   "metadata": {},
   "outputs": [
    {
     "name": "stdout",
     "output_type": "stream",
     "text": [
      "(100, 77)\n"
     ]
    },
    {
     "data": {
      "text/html": [
       "<div>\n",
       "<style scoped>\n",
       "    .dataframe tbody tr th:only-of-type {\n",
       "        vertical-align: middle;\n",
       "    }\n",
       "\n",
       "    .dataframe tbody tr th {\n",
       "        vertical-align: top;\n",
       "    }\n",
       "\n",
       "    .dataframe thead th {\n",
       "        text-align: right;\n",
       "    }\n",
       "</style>\n",
       "<table border=\"1\" class=\"dataframe\">\n",
       "  <thead>\n",
       "    <tr style=\"text-align: right;\">\n",
       "      <th></th>\n",
       "      <th>subreddit</th>\n",
       "      <th>selftext</th>\n",
       "      <th>title</th>\n",
       "    </tr>\n",
       "  </thead>\n",
       "  <tbody>\n",
       "    <tr>\n",
       "      <th>0</th>\n",
       "      <td>baseball</td>\n",
       "      <td></td>\n",
       "      <td>[Nightengale] Dusty Baker says his players are...</td>\n",
       "    </tr>\n",
       "    <tr>\n",
       "      <th>1</th>\n",
       "      <td>baseball</td>\n",
       "      <td></td>\n",
       "      <td>Dodgers Clayton Kershaw Scratched from Game 2,...</td>\n",
       "    </tr>\n",
       "    <tr>\n",
       "      <th>2</th>\n",
       "      <td>baseball</td>\n",
       "      <td></td>\n",
       "      <td>Dodgers Clayton Kershaw Scratched from Game 2 ...</td>\n",
       "    </tr>\n",
       "    <tr>\n",
       "      <th>3</th>\n",
       "      <td>baseball</td>\n",
       "      <td></td>\n",
       "      <td>[Giglio] \"2016 was pretty much a skim milk yea...</td>\n",
       "    </tr>\n",
       "    <tr>\n",
       "      <th>4</th>\n",
       "      <td>baseball</td>\n",
       "      <td></td>\n",
       "      <td>Back spasms sidelined Clayton Kershaw but hope...</td>\n",
       "    </tr>\n",
       "  </tbody>\n",
       "</table>\n",
       "</div>"
      ],
      "text/plain": [
       "  subreddit selftext                                              title\n",
       "0  baseball           [Nightengale] Dusty Baker says his players are...\n",
       "1  baseball           Dodgers Clayton Kershaw Scratched from Game 2,...\n",
       "2  baseball           Dodgers Clayton Kershaw Scratched from Game 2 ...\n",
       "3  baseball           [Giglio] \"2016 was pretty much a skim milk yea...\n",
       "4  baseball           Back spasms sidelined Clayton Kershaw but hope..."
      ]
     },
     "execution_count": 49,
     "metadata": {},
     "output_type": "execute_result"
    }
   ],
   "source": [
    "df6 = pd.DataFrame(posts)\n",
    "print(df6.shape)\n",
    "df6[['subreddit', 'selftext', 'title']].head()"
   ]
  },
  {
   "cell_type": "code",
   "execution_count": 50,
   "metadata": {},
   "outputs": [
    {
     "name": "stdout",
     "output_type": "stream",
     "text": [
      "(100, 77)\n"
     ]
    },
    {
     "data": {
      "text/html": [
       "<div>\n",
       "<style scoped>\n",
       "    .dataframe tbody tr th:only-of-type {\n",
       "        vertical-align: middle;\n",
       "    }\n",
       "\n",
       "    .dataframe tbody tr th {\n",
       "        vertical-align: top;\n",
       "    }\n",
       "\n",
       "    .dataframe thead th {\n",
       "        text-align: right;\n",
       "    }\n",
       "</style>\n",
       "<table border=\"1\" class=\"dataframe\">\n",
       "  <thead>\n",
       "    <tr style=\"text-align: right;\">\n",
       "      <th></th>\n",
       "      <th>subreddit</th>\n",
       "      <th>selftext</th>\n",
       "      <th>title</th>\n",
       "    </tr>\n",
       "  </thead>\n",
       "  <tbody>\n",
       "    <tr>\n",
       "      <th>0</th>\n",
       "      <td>baseball</td>\n",
       "      <td></td>\n",
       "      <td>[Nightengale] Dusty Baker says his players are...</td>\n",
       "    </tr>\n",
       "    <tr>\n",
       "      <th>1</th>\n",
       "      <td>baseball</td>\n",
       "      <td></td>\n",
       "      <td>Dodgers Clayton Kershaw Scratched from Game 2,...</td>\n",
       "    </tr>\n",
       "    <tr>\n",
       "      <th>2</th>\n",
       "      <td>baseball</td>\n",
       "      <td></td>\n",
       "      <td>Dodgers Clayton Kershaw Scratched from Game 2 ...</td>\n",
       "    </tr>\n",
       "    <tr>\n",
       "      <th>3</th>\n",
       "      <td>baseball</td>\n",
       "      <td></td>\n",
       "      <td>[Giglio] \"2016 was pretty much a skim milk yea...</td>\n",
       "    </tr>\n",
       "    <tr>\n",
       "      <th>4</th>\n",
       "      <td>baseball</td>\n",
       "      <td></td>\n",
       "      <td>Back spasms sidelined Clayton Kershaw but hope...</td>\n",
       "    </tr>\n",
       "  </tbody>\n",
       "</table>\n",
       "</div>"
      ],
      "text/plain": [
       "  subreddit selftext                                              title\n",
       "0  baseball           [Nightengale] Dusty Baker says his players are...\n",
       "1  baseball           Dodgers Clayton Kershaw Scratched from Game 2,...\n",
       "2  baseball           Dodgers Clayton Kershaw Scratched from Game 2 ...\n",
       "3  baseball           [Giglio] \"2016 was pretty much a skim milk yea...\n",
       "4  baseball           Back spasms sidelined Clayton Kershaw but hope..."
      ]
     },
     "execution_count": 50,
     "metadata": {},
     "output_type": "execute_result"
    }
   ],
   "source": [
    "df7 = pd.DataFrame(posts)\n",
    "print(df7.shape)\n",
    "df7[['subreddit', 'selftext', 'title']].head()"
   ]
  },
  {
   "cell_type": "code",
   "execution_count": 51,
   "metadata": {},
   "outputs": [
    {
     "name": "stdout",
     "output_type": "stream",
     "text": [
      "(100, 77)\n"
     ]
    },
    {
     "data": {
      "text/html": [
       "<div>\n",
       "<style scoped>\n",
       "    .dataframe tbody tr th:only-of-type {\n",
       "        vertical-align: middle;\n",
       "    }\n",
       "\n",
       "    .dataframe tbody tr th {\n",
       "        vertical-align: top;\n",
       "    }\n",
       "\n",
       "    .dataframe thead th {\n",
       "        text-align: right;\n",
       "    }\n",
       "</style>\n",
       "<table border=\"1\" class=\"dataframe\">\n",
       "  <thead>\n",
       "    <tr style=\"text-align: right;\">\n",
       "      <th></th>\n",
       "      <th>subreddit</th>\n",
       "      <th>selftext</th>\n",
       "      <th>title</th>\n",
       "    </tr>\n",
       "  </thead>\n",
       "  <tbody>\n",
       "    <tr>\n",
       "      <th>0</th>\n",
       "      <td>baseball</td>\n",
       "      <td></td>\n",
       "      <td>[Nightengale] Dusty Baker says his players are...</td>\n",
       "    </tr>\n",
       "    <tr>\n",
       "      <th>1</th>\n",
       "      <td>baseball</td>\n",
       "      <td></td>\n",
       "      <td>Dodgers Clayton Kershaw Scratched from Game 2,...</td>\n",
       "    </tr>\n",
       "    <tr>\n",
       "      <th>2</th>\n",
       "      <td>baseball</td>\n",
       "      <td></td>\n",
       "      <td>Dodgers Clayton Kershaw Scratched from Game 2 ...</td>\n",
       "    </tr>\n",
       "    <tr>\n",
       "      <th>3</th>\n",
       "      <td>baseball</td>\n",
       "      <td></td>\n",
       "      <td>[Giglio] \"2016 was pretty much a skim milk yea...</td>\n",
       "    </tr>\n",
       "    <tr>\n",
       "      <th>4</th>\n",
       "      <td>baseball</td>\n",
       "      <td></td>\n",
       "      <td>Back spasms sidelined Clayton Kershaw but hope...</td>\n",
       "    </tr>\n",
       "  </tbody>\n",
       "</table>\n",
       "</div>"
      ],
      "text/plain": [
       "  subreddit selftext                                              title\n",
       "0  baseball           [Nightengale] Dusty Baker says his players are...\n",
       "1  baseball           Dodgers Clayton Kershaw Scratched from Game 2,...\n",
       "2  baseball           Dodgers Clayton Kershaw Scratched from Game 2 ...\n",
       "3  baseball           [Giglio] \"2016 was pretty much a skim milk yea...\n",
       "4  baseball           Back spasms sidelined Clayton Kershaw but hope..."
      ]
     },
     "execution_count": 51,
     "metadata": {},
     "output_type": "execute_result"
    }
   ],
   "source": [
    "df8 = pd.DataFrame(posts)\n",
    "print(df8.shape)\n",
    "df8[['subreddit', 'selftext', 'title']].head()"
   ]
  },
  {
   "cell_type": "code",
   "execution_count": 52,
   "metadata": {},
   "outputs": [
    {
     "name": "stdout",
     "output_type": "stream",
     "text": [
      "(100, 77)\n"
     ]
    },
    {
     "data": {
      "text/html": [
       "<div>\n",
       "<style scoped>\n",
       "    .dataframe tbody tr th:only-of-type {\n",
       "        vertical-align: middle;\n",
       "    }\n",
       "\n",
       "    .dataframe tbody tr th {\n",
       "        vertical-align: top;\n",
       "    }\n",
       "\n",
       "    .dataframe thead th {\n",
       "        text-align: right;\n",
       "    }\n",
       "</style>\n",
       "<table border=\"1\" class=\"dataframe\">\n",
       "  <thead>\n",
       "    <tr style=\"text-align: right;\">\n",
       "      <th></th>\n",
       "      <th>subreddit</th>\n",
       "      <th>selftext</th>\n",
       "      <th>title</th>\n",
       "    </tr>\n",
       "  </thead>\n",
       "  <tbody>\n",
       "    <tr>\n",
       "      <th>0</th>\n",
       "      <td>baseball</td>\n",
       "      <td></td>\n",
       "      <td>[Nightengale] Dusty Baker says his players are...</td>\n",
       "    </tr>\n",
       "    <tr>\n",
       "      <th>1</th>\n",
       "      <td>baseball</td>\n",
       "      <td></td>\n",
       "      <td>Dodgers Clayton Kershaw Scratched from Game 2,...</td>\n",
       "    </tr>\n",
       "    <tr>\n",
       "      <th>2</th>\n",
       "      <td>baseball</td>\n",
       "      <td></td>\n",
       "      <td>Dodgers Clayton Kershaw Scratched from Game 2 ...</td>\n",
       "    </tr>\n",
       "    <tr>\n",
       "      <th>3</th>\n",
       "      <td>baseball</td>\n",
       "      <td></td>\n",
       "      <td>[Giglio] \"2016 was pretty much a skim milk yea...</td>\n",
       "    </tr>\n",
       "    <tr>\n",
       "      <th>4</th>\n",
       "      <td>baseball</td>\n",
       "      <td></td>\n",
       "      <td>Back spasms sidelined Clayton Kershaw but hope...</td>\n",
       "    </tr>\n",
       "  </tbody>\n",
       "</table>\n",
       "</div>"
      ],
      "text/plain": [
       "  subreddit selftext                                              title\n",
       "0  baseball           [Nightengale] Dusty Baker says his players are...\n",
       "1  baseball           Dodgers Clayton Kershaw Scratched from Game 2,...\n",
       "2  baseball           Dodgers Clayton Kershaw Scratched from Game 2 ...\n",
       "3  baseball           [Giglio] \"2016 was pretty much a skim milk yea...\n",
       "4  baseball           Back spasms sidelined Clayton Kershaw but hope..."
      ]
     },
     "execution_count": 52,
     "metadata": {},
     "output_type": "execute_result"
    }
   ],
   "source": [
    "df9 = pd.DataFrame(posts)\n",
    "print(df9.shape)\n",
    "df9[['subreddit', 'selftext', 'title']].head()"
   ]
  },
  {
   "cell_type": "code",
   "execution_count": 53,
   "metadata": {},
   "outputs": [
    {
     "name": "stdout",
     "output_type": "stream",
     "text": [
      "(100, 77)\n"
     ]
    },
    {
     "data": {
      "text/html": [
       "<div>\n",
       "<style scoped>\n",
       "    .dataframe tbody tr th:only-of-type {\n",
       "        vertical-align: middle;\n",
       "    }\n",
       "\n",
       "    .dataframe tbody tr th {\n",
       "        vertical-align: top;\n",
       "    }\n",
       "\n",
       "    .dataframe thead th {\n",
       "        text-align: right;\n",
       "    }\n",
       "</style>\n",
       "<table border=\"1\" class=\"dataframe\">\n",
       "  <thead>\n",
       "    <tr style=\"text-align: right;\">\n",
       "      <th></th>\n",
       "      <th>subreddit</th>\n",
       "      <th>selftext</th>\n",
       "      <th>title</th>\n",
       "    </tr>\n",
       "  </thead>\n",
       "  <tbody>\n",
       "    <tr>\n",
       "      <th>0</th>\n",
       "      <td>baseball</td>\n",
       "      <td></td>\n",
       "      <td>[Nightengale] Dusty Baker says his players are...</td>\n",
       "    </tr>\n",
       "    <tr>\n",
       "      <th>1</th>\n",
       "      <td>baseball</td>\n",
       "      <td></td>\n",
       "      <td>Dodgers Clayton Kershaw Scratched from Game 2,...</td>\n",
       "    </tr>\n",
       "    <tr>\n",
       "      <th>2</th>\n",
       "      <td>baseball</td>\n",
       "      <td></td>\n",
       "      <td>Dodgers Clayton Kershaw Scratched from Game 2 ...</td>\n",
       "    </tr>\n",
       "    <tr>\n",
       "      <th>3</th>\n",
       "      <td>baseball</td>\n",
       "      <td></td>\n",
       "      <td>[Giglio] \"2016 was pretty much a skim milk yea...</td>\n",
       "    </tr>\n",
       "    <tr>\n",
       "      <th>4</th>\n",
       "      <td>baseball</td>\n",
       "      <td></td>\n",
       "      <td>Back spasms sidelined Clayton Kershaw but hope...</td>\n",
       "    </tr>\n",
       "  </tbody>\n",
       "</table>\n",
       "</div>"
      ],
      "text/plain": [
       "  subreddit selftext                                              title\n",
       "0  baseball           [Nightengale] Dusty Baker says his players are...\n",
       "1  baseball           Dodgers Clayton Kershaw Scratched from Game 2,...\n",
       "2  baseball           Dodgers Clayton Kershaw Scratched from Game 2 ...\n",
       "3  baseball           [Giglio] \"2016 was pretty much a skim milk yea...\n",
       "4  baseball           Back spasms sidelined Clayton Kershaw but hope..."
      ]
     },
     "execution_count": 53,
     "metadata": {},
     "output_type": "execute_result"
    }
   ],
   "source": [
    "df10 = pd.DataFrame(posts)\n",
    "print(df10.shape)\n",
    "df10[['subreddit', 'selftext', 'title']].head()"
   ]
  },
  {
   "cell_type": "code",
   "execution_count": 54,
   "metadata": {},
   "outputs": [
    {
     "data": {
      "text/plain": [
       "(1000, 77)"
      ]
     },
     "execution_count": 54,
     "metadata": {},
     "output_type": "execute_result"
    }
   ],
   "source": [
    "# Final Baseball Subreddit Dataframe Concat\n",
    "frames = [df, df2, df3, df4, df5, df6, df7, df8, df9, df10]\n",
    "baseball = pd.concat(frames, axis=0)\n",
    "baseball.shape"
   ]
  },
  {
   "cell_type": "code",
   "execution_count": 55,
   "metadata": {},
   "outputs": [
    {
     "data": {
      "text/html": [
       "<div>\n",
       "<style scoped>\n",
       "    .dataframe tbody tr th:only-of-type {\n",
       "        vertical-align: middle;\n",
       "    }\n",
       "\n",
       "    .dataframe tbody tr th {\n",
       "        vertical-align: top;\n",
       "    }\n",
       "\n",
       "    .dataframe thead th {\n",
       "        text-align: right;\n",
       "    }\n",
       "</style>\n",
       "<table border=\"1\" class=\"dataframe\">\n",
       "  <thead>\n",
       "    <tr style=\"text-align: right;\">\n",
       "      <th></th>\n",
       "      <th>all_awardings</th>\n",
       "      <th>allow_live_comments</th>\n",
       "      <th>author</th>\n",
       "      <th>author_flair_css_class</th>\n",
       "      <th>author_flair_richtext</th>\n",
       "      <th>author_flair_template_id</th>\n",
       "      <th>author_flair_text</th>\n",
       "      <th>author_flair_text_color</th>\n",
       "      <th>author_flair_type</th>\n",
       "      <th>author_fullname</th>\n",
       "      <th>...</th>\n",
       "      <th>wls</th>\n",
       "      <th>link_flair_css_class</th>\n",
       "      <th>link_flair_template_id</th>\n",
       "      <th>link_flair_text</th>\n",
       "      <th>author_flair_background_color</th>\n",
       "      <th>removed_by_category</th>\n",
       "      <th>gallery_data</th>\n",
       "      <th>is_gallery</th>\n",
       "      <th>media_metadata</th>\n",
       "      <th>suggested_sort</th>\n",
       "    </tr>\n",
       "  </thead>\n",
       "  <tbody>\n",
       "    <tr>\n",
       "      <th>0</th>\n",
       "      <td>[]</td>\n",
       "      <td>False</td>\n",
       "      <td>dodgersfan44</td>\n",
       "      <td>lad</td>\n",
       "      <td>[{'e': 'text', 't': 'Los Angeles Dodgers '}, {...</td>\n",
       "      <td>4008014c-f88a-11e5-8fc2-0e84f409924f</td>\n",
       "      <td>Los Angeles Dodgers :lad1:</td>\n",
       "      <td>dark</td>\n",
       "      <td>richtext</td>\n",
       "      <td>t2_5b6xwx6i</td>\n",
       "      <td>...</td>\n",
       "      <td>6</td>\n",
       "      <td>NaN</td>\n",
       "      <td>NaN</td>\n",
       "      <td>NaN</td>\n",
       "      <td>NaN</td>\n",
       "      <td>NaN</td>\n",
       "      <td>NaN</td>\n",
       "      <td>NaN</td>\n",
       "      <td>NaN</td>\n",
       "      <td>NaN</td>\n",
       "    </tr>\n",
       "    <tr>\n",
       "      <th>1</th>\n",
       "      <td>[]</td>\n",
       "      <td>False</td>\n",
       "      <td>JPPT1974</td>\n",
       "      <td>bal-1</td>\n",
       "      <td>[{'e': 'text', 't': 'Baltimore Orioles '}, {'a...</td>\n",
       "      <td>0be22c3a-f88a-11e5-ab51-0efdf6d303c9</td>\n",
       "      <td>Baltimore Orioles :bal2:</td>\n",
       "      <td>dark</td>\n",
       "      <td>richtext</td>\n",
       "      <td>t2_19g8mo</td>\n",
       "      <td>...</td>\n",
       "      <td>6</td>\n",
       "      <td>rpt</td>\n",
       "      <td>ebaecb00-f891-11e5-9b72-0e9dc1ca97af</td>\n",
       "      <td>News</td>\n",
       "      <td>NaN</td>\n",
       "      <td>NaN</td>\n",
       "      <td>NaN</td>\n",
       "      <td>NaN</td>\n",
       "      <td>NaN</td>\n",
       "      <td>NaN</td>\n",
       "    </tr>\n",
       "    <tr>\n",
       "      <th>2</th>\n",
       "      <td>[]</td>\n",
       "      <td>False</td>\n",
       "      <td>JPPT1974</td>\n",
       "      <td>bal-1</td>\n",
       "      <td>[{'e': 'text', 't': 'Baltimore Orioles '}, {'a...</td>\n",
       "      <td>0be22c3a-f88a-11e5-ab51-0efdf6d303c9</td>\n",
       "      <td>Baltimore Orioles :bal2:</td>\n",
       "      <td>dark</td>\n",
       "      <td>richtext</td>\n",
       "      <td>t2_19g8mo</td>\n",
       "      <td>...</td>\n",
       "      <td>6</td>\n",
       "      <td>rpt</td>\n",
       "      <td>ebaecb00-f891-11e5-9b72-0e9dc1ca97af</td>\n",
       "      <td>News</td>\n",
       "      <td>NaN</td>\n",
       "      <td>NaN</td>\n",
       "      <td>NaN</td>\n",
       "      <td>NaN</td>\n",
       "      <td>NaN</td>\n",
       "      <td>NaN</td>\n",
       "    </tr>\n",
       "    <tr>\n",
       "      <th>3</th>\n",
       "      <td>[]</td>\n",
       "      <td>False</td>\n",
       "      <td>yoboapp</td>\n",
       "      <td>tor-3</td>\n",
       "      <td>[{'e': 'text', 't': 'Toronto Blue Jays '}, {'a...</td>\n",
       "      <td>8a3f6318-f88a-11e5-9aee-0ed23bc17a17</td>\n",
       "      <td>Toronto Blue Jays :tor4:</td>\n",
       "      <td>dark</td>\n",
       "      <td>richtext</td>\n",
       "      <td>t2_cgu0q</td>\n",
       "      <td>...</td>\n",
       "      <td>6</td>\n",
       "      <td>NaN</td>\n",
       "      <td>NaN</td>\n",
       "      <td>NaN</td>\n",
       "      <td>NaN</td>\n",
       "      <td>NaN</td>\n",
       "      <td>NaN</td>\n",
       "      <td>NaN</td>\n",
       "      <td>NaN</td>\n",
       "      <td>NaN</td>\n",
       "    </tr>\n",
       "    <tr>\n",
       "      <th>4</th>\n",
       "      <td>[]</td>\n",
       "      <td>False</td>\n",
       "      <td>JPPT1974</td>\n",
       "      <td>bal-1</td>\n",
       "      <td>[{'e': 'text', 't': 'Baltimore Orioles '}, {'a...</td>\n",
       "      <td>0be22c3a-f88a-11e5-ab51-0efdf6d303c9</td>\n",
       "      <td>Baltimore Orioles :bal2:</td>\n",
       "      <td>dark</td>\n",
       "      <td>richtext</td>\n",
       "      <td>t2_19g8mo</td>\n",
       "      <td>...</td>\n",
       "      <td>6</td>\n",
       "      <td>NaN</td>\n",
       "      <td>NaN</td>\n",
       "      <td>NaN</td>\n",
       "      <td>NaN</td>\n",
       "      <td>NaN</td>\n",
       "      <td>NaN</td>\n",
       "      <td>NaN</td>\n",
       "      <td>NaN</td>\n",
       "      <td>NaN</td>\n",
       "    </tr>\n",
       "  </tbody>\n",
       "</table>\n",
       "<p>5 rows × 77 columns</p>\n",
       "</div>"
      ],
      "text/plain": [
       "  all_awardings  allow_live_comments        author author_flair_css_class  \\\n",
       "0            []                False  dodgersfan44                    lad   \n",
       "1            []                False      JPPT1974                  bal-1   \n",
       "2            []                False      JPPT1974                  bal-1   \n",
       "3            []                False       yoboapp                  tor-3   \n",
       "4            []                False      JPPT1974                  bal-1   \n",
       "\n",
       "                               author_flair_richtext  \\\n",
       "0  [{'e': 'text', 't': 'Los Angeles Dodgers '}, {...   \n",
       "1  [{'e': 'text', 't': 'Baltimore Orioles '}, {'a...   \n",
       "2  [{'e': 'text', 't': 'Baltimore Orioles '}, {'a...   \n",
       "3  [{'e': 'text', 't': 'Toronto Blue Jays '}, {'a...   \n",
       "4  [{'e': 'text', 't': 'Baltimore Orioles '}, {'a...   \n",
       "\n",
       "               author_flair_template_id           author_flair_text  \\\n",
       "0  4008014c-f88a-11e5-8fc2-0e84f409924f  Los Angeles Dodgers :lad1:   \n",
       "1  0be22c3a-f88a-11e5-ab51-0efdf6d303c9    Baltimore Orioles :bal2:   \n",
       "2  0be22c3a-f88a-11e5-ab51-0efdf6d303c9    Baltimore Orioles :bal2:   \n",
       "3  8a3f6318-f88a-11e5-9aee-0ed23bc17a17    Toronto Blue Jays :tor4:   \n",
       "4  0be22c3a-f88a-11e5-ab51-0efdf6d303c9    Baltimore Orioles :bal2:   \n",
       "\n",
       "  author_flair_text_color author_flair_type author_fullname  ... wls  \\\n",
       "0                    dark          richtext     t2_5b6xwx6i  ...   6   \n",
       "1                    dark          richtext       t2_19g8mo  ...   6   \n",
       "2                    dark          richtext       t2_19g8mo  ...   6   \n",
       "3                    dark          richtext        t2_cgu0q  ...   6   \n",
       "4                    dark          richtext       t2_19g8mo  ...   6   \n",
       "\n",
       "  link_flair_css_class                link_flair_template_id  link_flair_text  \\\n",
       "0                  NaN                                   NaN              NaN   \n",
       "1                  rpt  ebaecb00-f891-11e5-9b72-0e9dc1ca97af             News   \n",
       "2                  rpt  ebaecb00-f891-11e5-9b72-0e9dc1ca97af             News   \n",
       "3                  NaN                                   NaN              NaN   \n",
       "4                  NaN                                   NaN              NaN   \n",
       "\n",
       "   author_flair_background_color  removed_by_category gallery_data is_gallery  \\\n",
       "0                            NaN                  NaN          NaN        NaN   \n",
       "1                            NaN                  NaN          NaN        NaN   \n",
       "2                            NaN                  NaN          NaN        NaN   \n",
       "3                            NaN                  NaN          NaN        NaN   \n",
       "4                            NaN                  NaN          NaN        NaN   \n",
       "\n",
       "  media_metadata suggested_sort  \n",
       "0            NaN            NaN  \n",
       "1            NaN            NaN  \n",
       "2            NaN            NaN  \n",
       "3            NaN            NaN  \n",
       "4            NaN            NaN  \n",
       "\n",
       "[5 rows x 77 columns]"
      ]
     },
     "execution_count": 55,
     "metadata": {},
     "output_type": "execute_result"
    }
   ],
   "source": [
    "baseball.head()"
   ]
  },
  {
   "cell_type": "markdown",
   "metadata": {},
   "source": [
    "## Top 15 Common Words in Baseball Data"
   ]
  },
  {
   "cell_type": "code",
   "execution_count": 89,
   "metadata": {},
   "outputs": [],
   "source": [
    "baseball['title'] = baseball['title'].replace('\\nhttp\\S+', '', regex=True).replace('http\\S+', '', regex=True).replace('www\\S+', '', regex=True).replace('\\n\\n\\S+', '', regex=True).replace('\\n\\S+', '', regex=True).replace('#\\S+','', regex = True).replace('@\\S+', '', regex=True)\n"
   ]
  },
  {
   "cell_type": "code",
   "execution_count": 90,
   "metadata": {},
   "outputs": [],
   "source": [
    "def remove_punctuation(text):\n",
    "    lower = text.lower()  \n",
    "    exclude = string.punctuation\n",
    "    return \"\".join(ch for ch in lower if ch not in exclude)\n",
    "baseball['title'] = baseball['title'].apply(remove_punctuation)"
   ]
  },
  {
   "cell_type": "code",
   "execution_count": 91,
   "metadata": {},
   "outputs": [],
   "source": [
    "stemmer = PorterStemmer()\n",
    "def split_and_stem(string):\n",
    "    word = \"\"   \n",
    "    string = string.split(' ')\n",
    "    for i in string: \n",
    "        word += (stemmer.stem(i) + \" \")  \n",
    "    return word \n",
    "baseball['title'] = baseball['title'].apply(split_and_stem)"
   ]
  },
  {
   "cell_type": "code",
   "execution_count": 92,
   "metadata": {},
   "outputs": [],
   "source": [
    "cvec = CountVectorizer(stop_words='english')"
   ]
  },
  {
   "cell_type": "code",
   "execution_count": 93,
   "metadata": {},
   "outputs": [
    {
     "data": {
      "text/plain": [
       "CountVectorizer(stop_words='english')"
      ]
     },
     "execution_count": 93,
     "metadata": {},
     "output_type": "execute_result"
    }
   ],
   "source": [
    "cvec.fit(baseball['title'])"
   ]
  },
  {
   "cell_type": "code",
   "execution_count": 94,
   "metadata": {},
   "outputs": [],
   "source": [
    "baseball_cvec = cvec.transform(baseball['title'])"
   ]
  },
  {
   "cell_type": "code",
   "execution_count": 95,
   "metadata": {},
   "outputs": [],
   "source": [
    "cvec_baseball_df = pd.DataFrame(baseball_cvec.todense(), \n",
    "                          columns=cvec.get_feature_names())"
   ]
  },
  {
   "cell_type": "code",
   "execution_count": 110,
   "metadata": {},
   "outputs": [
    {
     "data": {
      "image/png": "[encoded data removed]",
      "text/plain": [
       "<Figure size 432x288 with 1 Axes>"
      ]
     },
     "metadata": {
      "needs_background": "light"
     },
     "output_type": "display_data"
    }
   ],
   "source": [
    "cvec_baseball_df.sum().sort_values(ascending=False).head(15).plot(kind='barh')\n",
    "plt.savefig('baseball_top_words.png');"
   ]
  },
  {
   "cell_type": "code",
   "execution_count": 97,
   "metadata": {},
   "outputs": [
    {
     "data": {
      "text/plain": [
       "game       330\n",
       "dodger     180\n",
       "kershaw    160\n",
       "clayton    140\n",
       "nlc        110\n",
       "basebal    110\n",
       "start      110\n",
       "scratch    100\n",
       "seri       100\n",
       "brave      100\n",
       "mlb         80\n",
       "thi         80\n",
       "hi          80\n",
       "world       70\n",
       "team        70\n",
       "dtype: int64"
      ]
     },
     "execution_count": 97,
     "metadata": {},
     "output_type": "execute_result"
    }
   ],
   "source": [
    "cvec_baseball_df.sum().sort_values(ascending=False).head(15)"
   ]
  },
  {
   "cell_type": "markdown",
   "metadata": {},
   "source": [
    "## Getting Basketball Subreddit Data with Pushshift API"
   ]
  },
  {
   "cell_type": "code",
   "execution_count": 61,
   "metadata": {},
   "outputs": [],
   "source": [
    "params_bball = {\n",
    "    'subreddit': 'basketball',\n",
    "    'size': 100,\n",
    "    'before': 1599661717\n",
    "    \n",
    "}"
   ]
  },
  {
   "cell_type": "code",
   "execution_count": 62,
   "metadata": {},
   "outputs": [],
   "source": [
    "res = requests.get(url, params_bball)"
   ]
  },
  {
   "cell_type": "code",
   "execution_count": 63,
   "metadata": {},
   "outputs": [
    {
     "data": {
      "text/plain": [
       "200"
      ]
     },
     "execution_count": 63,
     "metadata": {},
     "output_type": "execute_result"
    }
   ],
   "source": [
    "res.status_code"
   ]
  },
  {
   "cell_type": "code",
   "execution_count": 64,
   "metadata": {},
   "outputs": [],
   "source": [
    "data_bball = res.json()"
   ]
  },
  {
   "cell_type": "code",
   "execution_count": 65,
   "metadata": {},
   "outputs": [],
   "source": [
    "posts_bball = data_bball['data']"
   ]
  },
  {
   "cell_type": "code",
   "execution_count": 66,
   "metadata": {},
   "outputs": [
    {
     "data": {
      "text/plain": [
       "100"
      ]
     },
     "execution_count": 66,
     "metadata": {},
     "output_type": "execute_result"
    }
   ],
   "source": [
    "len(posts_bball)"
   ]
  },
  {
   "cell_type": "code",
   "execution_count": 67,
   "metadata": {},
   "outputs": [
    {
     "data": {
      "text/plain": [
       "{'all_awardings': [],\n",
       " 'allow_live_comments': False,\n",
       " 'author': 'Zilver-alpha',\n",
       " 'author_flair_css_class': None,\n",
       " 'author_flair_richtext': [],\n",
       " 'author_flair_text': None,\n",
       " 'author_flair_type': 'text',\n",
       " 'author_fullname': 't2_7ovyt43i',\n",
       " 'author_patreon_flair': False,\n",
       " 'author_premium': False,\n",
       " 'awarders': [],\n",
       " 'can_mod_post': False,\n",
       " 'contest_mode': False,\n",
       " 'created_utc': 1599293347,\n",
       " 'domain': 'self.Basketball',\n",
       " 'full_link': 'https://www.reddit.com/r/Basketball/comments/imxgt8/i_am_16_now_and_want_to_try_to_get_to_a_pro_level/',\n",
       " 'gildings': {},\n",
       " 'id': 'imxgt8',\n",
       " 'is_crosspostable': False,\n",
       " 'is_meta': False,\n",
       " 'is_original_content': False,\n",
       " 'is_reddit_media_domain': False,\n",
       " 'is_robot_indexable': False,\n",
       " 'is_self': True,\n",
       " 'is_video': False,\n",
       " 'link_flair_background_color': '',\n",
       " 'link_flair_richtext': [],\n",
       " 'link_flair_text_color': 'dark',\n",
       " 'link_flair_type': 'text',\n",
       " 'locked': False,\n",
       " 'media_only': False,\n",
       " 'no_follow': True,\n",
       " 'num_comments': 1,\n",
       " 'num_crossposts': 0,\n",
       " 'over_18': False,\n",
       " 'parent_whitelist_status': 'all_ads',\n",
       " 'permalink': '/r/Basketball/comments/imxgt8/i_am_16_now_and_want_to_try_to_get_to_a_pro_level/',\n",
       " 'pinned': False,\n",
       " 'pwls': 6,\n",
       " 'removed_by_category': 'reddit',\n",
       " 'retrieved_on': 1599293358,\n",
       " 'score': 1,\n",
       " 'selftext': '[removed]',\n",
       " 'send_replies': True,\n",
       " 'spoiler': False,\n",
       " 'stickied': False,\n",
       " 'subreddit': 'Basketball',\n",
       " 'subreddit_id': 't5_2qhsv',\n",
       " 'subreddit_subscribers': 65756,\n",
       " 'subreddit_type': 'public',\n",
       " 'thumbnail': 'self',\n",
       " 'title': 'I am 16 now and want to try to get to a pro level. Is it too late?',\n",
       " 'total_awards_received': 0,\n",
       " 'treatment_tags': [],\n",
       " 'upvote_ratio': 1.0,\n",
       " 'url': 'https://www.reddit.com/r/Basketball/comments/imxgt8/i_am_16_now_and_want_to_try_to_get_to_a_pro_level/',\n",
       " 'whitelist_status': 'all_ads',\n",
       " 'wls': 6}"
      ]
     },
     "execution_count": 67,
     "metadata": {},
     "output_type": "execute_result"
    }
   ],
   "source": [
    "posts_bball[99]"
   ]
  },
  {
   "cell_type": "code",
   "execution_count": 68,
   "metadata": {},
   "outputs": [
    {
     "name": "stdout",
     "output_type": "stream",
     "text": [
      "(100, 74)\n"
     ]
    },
    {
     "data": {
      "text/html": [
       "<div>\n",
       "<style scoped>\n",
       "    .dataframe tbody tr th:only-of-type {\n",
       "        vertical-align: middle;\n",
       "    }\n",
       "\n",
       "    .dataframe tbody tr th {\n",
       "        vertical-align: top;\n",
       "    }\n",
       "\n",
       "    .dataframe thead th {\n",
       "        text-align: right;\n",
       "    }\n",
       "</style>\n",
       "<table border=\"1\" class=\"dataframe\">\n",
       "  <thead>\n",
       "    <tr style=\"text-align: right;\">\n",
       "      <th></th>\n",
       "      <th>subreddit</th>\n",
       "      <th>selftext</th>\n",
       "      <th>title</th>\n",
       "    </tr>\n",
       "  </thead>\n",
       "  <tbody>\n",
       "    <tr>\n",
       "      <th>0</th>\n",
       "      <td>Basketball</td>\n",
       "      <td>[removed]</td>\n",
       "      <td>Hoops</td>\n",
       "    </tr>\n",
       "    <tr>\n",
       "      <th>1</th>\n",
       "      <td>Basketball</td>\n",
       "      <td></td>\n",
       "      <td>This boy's a legend already</td>\n",
       "    </tr>\n",
       "    <tr>\n",
       "      <th>2</th>\n",
       "      <td>Basketball</td>\n",
       "      <td></td>\n",
       "      <td>Basketball | Nikon D3200</td>\n",
       "    </tr>\n",
       "    <tr>\n",
       "      <th>3</th>\n",
       "      <td>Basketball</td>\n",
       "      <td></td>\n",
       "      <td>Basketball | Nikon D3200</td>\n",
       "    </tr>\n",
       "    <tr>\n",
       "      <th>4</th>\n",
       "      <td>Basketball</td>\n",
       "      <td>[removed]</td>\n",
       "      <td>Micah lancaster checklist</td>\n",
       "    </tr>\n",
       "  </tbody>\n",
       "</table>\n",
       "</div>"
      ],
      "text/plain": [
       "    subreddit   selftext                        title\n",
       "0  Basketball  [removed]                        Hoops\n",
       "1  Basketball             This boy's a legend already\n",
       "2  Basketball                Basketball | Nikon D3200\n",
       "3  Basketball                Basketball | Nikon D3200\n",
       "4  Basketball  [removed]    Micah lancaster checklist"
      ]
     },
     "execution_count": 68,
     "metadata": {},
     "output_type": "execute_result"
    }
   ],
   "source": [
    "df_bball = pd.DataFrame(posts_bball)\n",
    "print(df_bball.shape)\n",
    "df_bball[['subreddit', 'selftext', 'title']].head()"
   ]
  },
  {
   "cell_type": "code",
   "execution_count": 69,
   "metadata": {},
   "outputs": [
    {
     "name": "stdout",
     "output_type": "stream",
     "text": [
      "(100, 74)\n"
     ]
    },
    {
     "data": {
      "text/html": [
       "<div>\n",
       "<style scoped>\n",
       "    .dataframe tbody tr th:only-of-type {\n",
       "        vertical-align: middle;\n",
       "    }\n",
       "\n",
       "    .dataframe tbody tr th {\n",
       "        vertical-align: top;\n",
       "    }\n",
       "\n",
       "    .dataframe thead th {\n",
       "        text-align: right;\n",
       "    }\n",
       "</style>\n",
       "<table border=\"1\" class=\"dataframe\">\n",
       "  <thead>\n",
       "    <tr style=\"text-align: right;\">\n",
       "      <th></th>\n",
       "      <th>subreddit</th>\n",
       "      <th>selftext</th>\n",
       "      <th>title</th>\n",
       "    </tr>\n",
       "  </thead>\n",
       "  <tbody>\n",
       "    <tr>\n",
       "      <th>0</th>\n",
       "      <td>Basketball</td>\n",
       "      <td>[removed]</td>\n",
       "      <td>Hoops</td>\n",
       "    </tr>\n",
       "    <tr>\n",
       "      <th>1</th>\n",
       "      <td>Basketball</td>\n",
       "      <td></td>\n",
       "      <td>This boy's a legend already</td>\n",
       "    </tr>\n",
       "    <tr>\n",
       "      <th>2</th>\n",
       "      <td>Basketball</td>\n",
       "      <td></td>\n",
       "      <td>Basketball | Nikon D3200</td>\n",
       "    </tr>\n",
       "    <tr>\n",
       "      <th>3</th>\n",
       "      <td>Basketball</td>\n",
       "      <td></td>\n",
       "      <td>Basketball | Nikon D3200</td>\n",
       "    </tr>\n",
       "    <tr>\n",
       "      <th>4</th>\n",
       "      <td>Basketball</td>\n",
       "      <td>[removed]</td>\n",
       "      <td>Micah lancaster checklist</td>\n",
       "    </tr>\n",
       "  </tbody>\n",
       "</table>\n",
       "</div>"
      ],
      "text/plain": [
       "    subreddit   selftext                        title\n",
       "0  Basketball  [removed]                        Hoops\n",
       "1  Basketball             This boy's a legend already\n",
       "2  Basketball                Basketball | Nikon D3200\n",
       "3  Basketball                Basketball | Nikon D3200\n",
       "4  Basketball  [removed]    Micah lancaster checklist"
      ]
     },
     "execution_count": 69,
     "metadata": {},
     "output_type": "execute_result"
    }
   ],
   "source": [
    "df2_bball = pd.DataFrame(posts_bball)\n",
    "print(df2_bball.shape)\n",
    "df2_bball[['subreddit', 'selftext', 'title']].head()"
   ]
  },
  {
   "cell_type": "code",
   "execution_count": 70,
   "metadata": {},
   "outputs": [
    {
     "name": "stdout",
     "output_type": "stream",
     "text": [
      "(100, 74)\n"
     ]
    },
    {
     "data": {
      "text/html": [
       "<div>\n",
       "<style scoped>\n",
       "    .dataframe tbody tr th:only-of-type {\n",
       "        vertical-align: middle;\n",
       "    }\n",
       "\n",
       "    .dataframe tbody tr th {\n",
       "        vertical-align: top;\n",
       "    }\n",
       "\n",
       "    .dataframe thead th {\n",
       "        text-align: right;\n",
       "    }\n",
       "</style>\n",
       "<table border=\"1\" class=\"dataframe\">\n",
       "  <thead>\n",
       "    <tr style=\"text-align: right;\">\n",
       "      <th></th>\n",
       "      <th>subreddit</th>\n",
       "      <th>selftext</th>\n",
       "      <th>title</th>\n",
       "    </tr>\n",
       "  </thead>\n",
       "  <tbody>\n",
       "    <tr>\n",
       "      <th>0</th>\n",
       "      <td>Basketball</td>\n",
       "      <td>[removed]</td>\n",
       "      <td>Hoops</td>\n",
       "    </tr>\n",
       "    <tr>\n",
       "      <th>1</th>\n",
       "      <td>Basketball</td>\n",
       "      <td></td>\n",
       "      <td>This boy's a legend already</td>\n",
       "    </tr>\n",
       "    <tr>\n",
       "      <th>2</th>\n",
       "      <td>Basketball</td>\n",
       "      <td></td>\n",
       "      <td>Basketball | Nikon D3200</td>\n",
       "    </tr>\n",
       "    <tr>\n",
       "      <th>3</th>\n",
       "      <td>Basketball</td>\n",
       "      <td></td>\n",
       "      <td>Basketball | Nikon D3200</td>\n",
       "    </tr>\n",
       "    <tr>\n",
       "      <th>4</th>\n",
       "      <td>Basketball</td>\n",
       "      <td>[removed]</td>\n",
       "      <td>Micah lancaster checklist</td>\n",
       "    </tr>\n",
       "  </tbody>\n",
       "</table>\n",
       "</div>"
      ],
      "text/plain": [
       "    subreddit   selftext                        title\n",
       "0  Basketball  [removed]                        Hoops\n",
       "1  Basketball             This boy's a legend already\n",
       "2  Basketball                Basketball | Nikon D3200\n",
       "3  Basketball                Basketball | Nikon D3200\n",
       "4  Basketball  [removed]    Micah lancaster checklist"
      ]
     },
     "execution_count": 70,
     "metadata": {},
     "output_type": "execute_result"
    }
   ],
   "source": [
    "df3_bball = pd.DataFrame(posts_bball)\n",
    "print(df3_bball.shape)\n",
    "df3_bball[['subreddit', 'selftext', 'title']].head()"
   ]
  },
  {
   "cell_type": "code",
   "execution_count": 71,
   "metadata": {},
   "outputs": [
    {
     "name": "stdout",
     "output_type": "stream",
     "text": [
      "(100, 74)\n"
     ]
    },
    {
     "data": {
      "text/html": [
       "<div>\n",
       "<style scoped>\n",
       "    .dataframe tbody tr th:only-of-type {\n",
       "        vertical-align: middle;\n",
       "    }\n",
       "\n",
       "    .dataframe tbody tr th {\n",
       "        vertical-align: top;\n",
       "    }\n",
       "\n",
       "    .dataframe thead th {\n",
       "        text-align: right;\n",
       "    }\n",
       "</style>\n",
       "<table border=\"1\" class=\"dataframe\">\n",
       "  <thead>\n",
       "    <tr style=\"text-align: right;\">\n",
       "      <th></th>\n",
       "      <th>subreddit</th>\n",
       "      <th>selftext</th>\n",
       "      <th>title</th>\n",
       "    </tr>\n",
       "  </thead>\n",
       "  <tbody>\n",
       "    <tr>\n",
       "      <th>0</th>\n",
       "      <td>Basketball</td>\n",
       "      <td>[removed]</td>\n",
       "      <td>Hoops</td>\n",
       "    </tr>\n",
       "    <tr>\n",
       "      <th>1</th>\n",
       "      <td>Basketball</td>\n",
       "      <td></td>\n",
       "      <td>This boy's a legend already</td>\n",
       "    </tr>\n",
       "    <tr>\n",
       "      <th>2</th>\n",
       "      <td>Basketball</td>\n",
       "      <td></td>\n",
       "      <td>Basketball | Nikon D3200</td>\n",
       "    </tr>\n",
       "    <tr>\n",
       "      <th>3</th>\n",
       "      <td>Basketball</td>\n",
       "      <td></td>\n",
       "      <td>Basketball | Nikon D3200</td>\n",
       "    </tr>\n",
       "    <tr>\n",
       "      <th>4</th>\n",
       "      <td>Basketball</td>\n",
       "      <td>[removed]</td>\n",
       "      <td>Micah lancaster checklist</td>\n",
       "    </tr>\n",
       "  </tbody>\n",
       "</table>\n",
       "</div>"
      ],
      "text/plain": [
       "    subreddit   selftext                        title\n",
       "0  Basketball  [removed]                        Hoops\n",
       "1  Basketball             This boy's a legend already\n",
       "2  Basketball                Basketball | Nikon D3200\n",
       "3  Basketball                Basketball | Nikon D3200\n",
       "4  Basketball  [removed]    Micah lancaster checklist"
      ]
     },
     "execution_count": 71,
     "metadata": {},
     "output_type": "execute_result"
    }
   ],
   "source": [
    "df4_bball = pd.DataFrame(posts_bball)\n",
    "print(df4_bball.shape)\n",
    "df4_bball[['subreddit', 'selftext', 'title']].head()"
   ]
  },
  {
   "cell_type": "code",
   "execution_count": 72,
   "metadata": {},
   "outputs": [
    {
     "name": "stdout",
     "output_type": "stream",
     "text": [
      "(100, 74)\n"
     ]
    },
    {
     "data": {
      "text/html": [
       "<div>\n",
       "<style scoped>\n",
       "    .dataframe tbody tr th:only-of-type {\n",
       "        vertical-align: middle;\n",
       "    }\n",
       "\n",
       "    .dataframe tbody tr th {\n",
       "        vertical-align: top;\n",
       "    }\n",
       "\n",
       "    .dataframe thead th {\n",
       "        text-align: right;\n",
       "    }\n",
       "</style>\n",
       "<table border=\"1\" class=\"dataframe\">\n",
       "  <thead>\n",
       "    <tr style=\"text-align: right;\">\n",
       "      <th></th>\n",
       "      <th>subreddit</th>\n",
       "      <th>selftext</th>\n",
       "      <th>title</th>\n",
       "    </tr>\n",
       "  </thead>\n",
       "  <tbody>\n",
       "    <tr>\n",
       "      <th>0</th>\n",
       "      <td>Basketball</td>\n",
       "      <td>[removed]</td>\n",
       "      <td>Hoops</td>\n",
       "    </tr>\n",
       "    <tr>\n",
       "      <th>1</th>\n",
       "      <td>Basketball</td>\n",
       "      <td></td>\n",
       "      <td>This boy's a legend already</td>\n",
       "    </tr>\n",
       "    <tr>\n",
       "      <th>2</th>\n",
       "      <td>Basketball</td>\n",
       "      <td></td>\n",
       "      <td>Basketball | Nikon D3200</td>\n",
       "    </tr>\n",
       "    <tr>\n",
       "      <th>3</th>\n",
       "      <td>Basketball</td>\n",
       "      <td></td>\n",
       "      <td>Basketball | Nikon D3200</td>\n",
       "    </tr>\n",
       "    <tr>\n",
       "      <th>4</th>\n",
       "      <td>Basketball</td>\n",
       "      <td>[removed]</td>\n",
       "      <td>Micah lancaster checklist</td>\n",
       "    </tr>\n",
       "  </tbody>\n",
       "</table>\n",
       "</div>"
      ],
      "text/plain": [
       "    subreddit   selftext                        title\n",
       "0  Basketball  [removed]                        Hoops\n",
       "1  Basketball             This boy's a legend already\n",
       "2  Basketball                Basketball | Nikon D3200\n",
       "3  Basketball                Basketball | Nikon D3200\n",
       "4  Basketball  [removed]    Micah lancaster checklist"
      ]
     },
     "execution_count": 72,
     "metadata": {},
     "output_type": "execute_result"
    }
   ],
   "source": [
    "df5_bball = pd.DataFrame(posts_bball)\n",
    "print(df5_bball.shape)\n",
    "df5_bball[['subreddit', 'selftext', 'title']].head()"
   ]
  },
  {
   "cell_type": "code",
   "execution_count": 73,
   "metadata": {},
   "outputs": [
    {
     "name": "stdout",
     "output_type": "stream",
     "text": [
      "(100, 74)\n"
     ]
    },
    {
     "data": {
      "text/html": [
       "<div>\n",
       "<style scoped>\n",
       "    .dataframe tbody tr th:only-of-type {\n",
       "        vertical-align: middle;\n",
       "    }\n",
       "\n",
       "    .dataframe tbody tr th {\n",
       "        vertical-align: top;\n",
       "    }\n",
       "\n",
       "    .dataframe thead th {\n",
       "        text-align: right;\n",
       "    }\n",
       "</style>\n",
       "<table border=\"1\" class=\"dataframe\">\n",
       "  <thead>\n",
       "    <tr style=\"text-align: right;\">\n",
       "      <th></th>\n",
       "      <th>subreddit</th>\n",
       "      <th>selftext</th>\n",
       "      <th>title</th>\n",
       "    </tr>\n",
       "  </thead>\n",
       "  <tbody>\n",
       "    <tr>\n",
       "      <th>0</th>\n",
       "      <td>Basketball</td>\n",
       "      <td>[removed]</td>\n",
       "      <td>Hoops</td>\n",
       "    </tr>\n",
       "    <tr>\n",
       "      <th>1</th>\n",
       "      <td>Basketball</td>\n",
       "      <td></td>\n",
       "      <td>This boy's a legend already</td>\n",
       "    </tr>\n",
       "    <tr>\n",
       "      <th>2</th>\n",
       "      <td>Basketball</td>\n",
       "      <td></td>\n",
       "      <td>Basketball | Nikon D3200</td>\n",
       "    </tr>\n",
       "    <tr>\n",
       "      <th>3</th>\n",
       "      <td>Basketball</td>\n",
       "      <td></td>\n",
       "      <td>Basketball | Nikon D3200</td>\n",
       "    </tr>\n",
       "    <tr>\n",
       "      <th>4</th>\n",
       "      <td>Basketball</td>\n",
       "      <td>[removed]</td>\n",
       "      <td>Micah lancaster checklist</td>\n",
       "    </tr>\n",
       "  </tbody>\n",
       "</table>\n",
       "</div>"
      ],
      "text/plain": [
       "    subreddit   selftext                        title\n",
       "0  Basketball  [removed]                        Hoops\n",
       "1  Basketball             This boy's a legend already\n",
       "2  Basketball                Basketball | Nikon D3200\n",
       "3  Basketball                Basketball | Nikon D3200\n",
       "4  Basketball  [removed]    Micah lancaster checklist"
      ]
     },
     "execution_count": 73,
     "metadata": {},
     "output_type": "execute_result"
    }
   ],
   "source": [
    "df6_bball = pd.DataFrame(posts_bball)\n",
    "print(df6_bball.shape)\n",
    "df6_bball[['subreddit', 'selftext', 'title']].head()"
   ]
  },
  {
   "cell_type": "code",
   "execution_count": 74,
   "metadata": {},
   "outputs": [
    {
     "name": "stdout",
     "output_type": "stream",
     "text": [
      "(100, 74)\n"
     ]
    },
    {
     "data": {
      "text/html": [
       "<div>\n",
       "<style scoped>\n",
       "    .dataframe tbody tr th:only-of-type {\n",
       "        vertical-align: middle;\n",
       "    }\n",
       "\n",
       "    .dataframe tbody tr th {\n",
       "        vertical-align: top;\n",
       "    }\n",
       "\n",
       "    .dataframe thead th {\n",
       "        text-align: right;\n",
       "    }\n",
       "</style>\n",
       "<table border=\"1\" class=\"dataframe\">\n",
       "  <thead>\n",
       "    <tr style=\"text-align: right;\">\n",
       "      <th></th>\n",
       "      <th>subreddit</th>\n",
       "      <th>selftext</th>\n",
       "      <th>title</th>\n",
       "    </tr>\n",
       "  </thead>\n",
       "  <tbody>\n",
       "    <tr>\n",
       "      <th>0</th>\n",
       "      <td>Basketball</td>\n",
       "      <td>[removed]</td>\n",
       "      <td>Hoops</td>\n",
       "    </tr>\n",
       "    <tr>\n",
       "      <th>1</th>\n",
       "      <td>Basketball</td>\n",
       "      <td></td>\n",
       "      <td>This boy's a legend already</td>\n",
       "    </tr>\n",
       "    <tr>\n",
       "      <th>2</th>\n",
       "      <td>Basketball</td>\n",
       "      <td></td>\n",
       "      <td>Basketball | Nikon D3200</td>\n",
       "    </tr>\n",
       "    <tr>\n",
       "      <th>3</th>\n",
       "      <td>Basketball</td>\n",
       "      <td></td>\n",
       "      <td>Basketball | Nikon D3200</td>\n",
       "    </tr>\n",
       "    <tr>\n",
       "      <th>4</th>\n",
       "      <td>Basketball</td>\n",
       "      <td>[removed]</td>\n",
       "      <td>Micah lancaster checklist</td>\n",
       "    </tr>\n",
       "  </tbody>\n",
       "</table>\n",
       "</div>"
      ],
      "text/plain": [
       "    subreddit   selftext                        title\n",
       "0  Basketball  [removed]                        Hoops\n",
       "1  Basketball             This boy's a legend already\n",
       "2  Basketball                Basketball | Nikon D3200\n",
       "3  Basketball                Basketball | Nikon D3200\n",
       "4  Basketball  [removed]    Micah lancaster checklist"
      ]
     },
     "execution_count": 74,
     "metadata": {},
     "output_type": "execute_result"
    }
   ],
   "source": [
    "df7_bball = pd.DataFrame(posts_bball)\n",
    "print(df7_bball.shape)\n",
    "df7_bball[['subreddit', 'selftext', 'title']].head()"
   ]
  },
  {
   "cell_type": "code",
   "execution_count": 75,
   "metadata": {},
   "outputs": [
    {
     "name": "stdout",
     "output_type": "stream",
     "text": [
      "(100, 74)\n"
     ]
    },
    {
     "data": {
      "text/html": [
       "<div>\n",
       "<style scoped>\n",
       "    .dataframe tbody tr th:only-of-type {\n",
       "        vertical-align: middle;\n",
       "    }\n",
       "\n",
       "    .dataframe tbody tr th {\n",
       "        vertical-align: top;\n",
       "    }\n",
       "\n",
       "    .dataframe thead th {\n",
       "        text-align: right;\n",
       "    }\n",
       "</style>\n",
       "<table border=\"1\" class=\"dataframe\">\n",
       "  <thead>\n",
       "    <tr style=\"text-align: right;\">\n",
       "      <th></th>\n",
       "      <th>subreddit</th>\n",
       "      <th>selftext</th>\n",
       "      <th>title</th>\n",
       "    </tr>\n",
       "  </thead>\n",
       "  <tbody>\n",
       "    <tr>\n",
       "      <th>0</th>\n",
       "      <td>Basketball</td>\n",
       "      <td>[removed]</td>\n",
       "      <td>Hoops</td>\n",
       "    </tr>\n",
       "    <tr>\n",
       "      <th>1</th>\n",
       "      <td>Basketball</td>\n",
       "      <td></td>\n",
       "      <td>This boy's a legend already</td>\n",
       "    </tr>\n",
       "    <tr>\n",
       "      <th>2</th>\n",
       "      <td>Basketball</td>\n",
       "      <td></td>\n",
       "      <td>Basketball | Nikon D3200</td>\n",
       "    </tr>\n",
       "    <tr>\n",
       "      <th>3</th>\n",
       "      <td>Basketball</td>\n",
       "      <td></td>\n",
       "      <td>Basketball | Nikon D3200</td>\n",
       "    </tr>\n",
       "    <tr>\n",
       "      <th>4</th>\n",
       "      <td>Basketball</td>\n",
       "      <td>[removed]</td>\n",
       "      <td>Micah lancaster checklist</td>\n",
       "    </tr>\n",
       "  </tbody>\n",
       "</table>\n",
       "</div>"
      ],
      "text/plain": [
       "    subreddit   selftext                        title\n",
       "0  Basketball  [removed]                        Hoops\n",
       "1  Basketball             This boy's a legend already\n",
       "2  Basketball                Basketball | Nikon D3200\n",
       "3  Basketball                Basketball | Nikon D3200\n",
       "4  Basketball  [removed]    Micah lancaster checklist"
      ]
     },
     "execution_count": 75,
     "metadata": {},
     "output_type": "execute_result"
    }
   ],
   "source": [
    "df8_bball = pd.DataFrame(posts_bball)\n",
    "print(df8_bball.shape)\n",
    "df8_bball[['subreddit', 'selftext', 'title']].head()"
   ]
  },
  {
   "cell_type": "code",
   "execution_count": 76,
   "metadata": {},
   "outputs": [
    {
     "name": "stdout",
     "output_type": "stream",
     "text": [
      "(100, 74)\n"
     ]
    },
    {
     "data": {
      "text/html": [
       "<div>\n",
       "<style scoped>\n",
       "    .dataframe tbody tr th:only-of-type {\n",
       "        vertical-align: middle;\n",
       "    }\n",
       "\n",
       "    .dataframe tbody tr th {\n",
       "        vertical-align: top;\n",
       "    }\n",
       "\n",
       "    .dataframe thead th {\n",
       "        text-align: right;\n",
       "    }\n",
       "</style>\n",
       "<table border=\"1\" class=\"dataframe\">\n",
       "  <thead>\n",
       "    <tr style=\"text-align: right;\">\n",
       "      <th></th>\n",
       "      <th>subreddit</th>\n",
       "      <th>selftext</th>\n",
       "      <th>title</th>\n",
       "    </tr>\n",
       "  </thead>\n",
       "  <tbody>\n",
       "    <tr>\n",
       "      <th>0</th>\n",
       "      <td>Basketball</td>\n",
       "      <td>[removed]</td>\n",
       "      <td>Hoops</td>\n",
       "    </tr>\n",
       "    <tr>\n",
       "      <th>1</th>\n",
       "      <td>Basketball</td>\n",
       "      <td></td>\n",
       "      <td>This boy's a legend already</td>\n",
       "    </tr>\n",
       "    <tr>\n",
       "      <th>2</th>\n",
       "      <td>Basketball</td>\n",
       "      <td></td>\n",
       "      <td>Basketball | Nikon D3200</td>\n",
       "    </tr>\n",
       "    <tr>\n",
       "      <th>3</th>\n",
       "      <td>Basketball</td>\n",
       "      <td></td>\n",
       "      <td>Basketball | Nikon D3200</td>\n",
       "    </tr>\n",
       "    <tr>\n",
       "      <th>4</th>\n",
       "      <td>Basketball</td>\n",
       "      <td>[removed]</td>\n",
       "      <td>Micah lancaster checklist</td>\n",
       "    </tr>\n",
       "  </tbody>\n",
       "</table>\n",
       "</div>"
      ],
      "text/plain": [
       "    subreddit   selftext                        title\n",
       "0  Basketball  [removed]                        Hoops\n",
       "1  Basketball             This boy's a legend already\n",
       "2  Basketball                Basketball | Nikon D3200\n",
       "3  Basketball                Basketball | Nikon D3200\n",
       "4  Basketball  [removed]    Micah lancaster checklist"
      ]
     },
     "execution_count": 76,
     "metadata": {},
     "output_type": "execute_result"
    }
   ],
   "source": [
    "df9_bball = pd.DataFrame(posts_bball)\n",
    "print(df9_bball.shape)\n",
    "df9_bball[['subreddit', 'selftext', 'title']].head()"
   ]
  },
  {
   "cell_type": "code",
   "execution_count": 77,
   "metadata": {},
   "outputs": [
    {
     "name": "stdout",
     "output_type": "stream",
     "text": [
      "(100, 74)\n"
     ]
    },
    {
     "data": {
      "text/html": [
       "<div>\n",
       "<style scoped>\n",
       "    .dataframe tbody tr th:only-of-type {\n",
       "        vertical-align: middle;\n",
       "    }\n",
       "\n",
       "    .dataframe tbody tr th {\n",
       "        vertical-align: top;\n",
       "    }\n",
       "\n",
       "    .dataframe thead th {\n",
       "        text-align: right;\n",
       "    }\n",
       "</style>\n",
       "<table border=\"1\" class=\"dataframe\">\n",
       "  <thead>\n",
       "    <tr style=\"text-align: right;\">\n",
       "      <th></th>\n",
       "      <th>subreddit</th>\n",
       "      <th>selftext</th>\n",
       "      <th>title</th>\n",
       "    </tr>\n",
       "  </thead>\n",
       "  <tbody>\n",
       "    <tr>\n",
       "      <th>0</th>\n",
       "      <td>Basketball</td>\n",
       "      <td>[removed]</td>\n",
       "      <td>Hoops</td>\n",
       "    </tr>\n",
       "    <tr>\n",
       "      <th>1</th>\n",
       "      <td>Basketball</td>\n",
       "      <td></td>\n",
       "      <td>This boy's a legend already</td>\n",
       "    </tr>\n",
       "    <tr>\n",
       "      <th>2</th>\n",
       "      <td>Basketball</td>\n",
       "      <td></td>\n",
       "      <td>Basketball | Nikon D3200</td>\n",
       "    </tr>\n",
       "    <tr>\n",
       "      <th>3</th>\n",
       "      <td>Basketball</td>\n",
       "      <td></td>\n",
       "      <td>Basketball | Nikon D3200</td>\n",
       "    </tr>\n",
       "    <tr>\n",
       "      <th>4</th>\n",
       "      <td>Basketball</td>\n",
       "      <td>[removed]</td>\n",
       "      <td>Micah lancaster checklist</td>\n",
       "    </tr>\n",
       "  </tbody>\n",
       "</table>\n",
       "</div>"
      ],
      "text/plain": [
       "    subreddit   selftext                        title\n",
       "0  Basketball  [removed]                        Hoops\n",
       "1  Basketball             This boy's a legend already\n",
       "2  Basketball                Basketball | Nikon D3200\n",
       "3  Basketball                Basketball | Nikon D3200\n",
       "4  Basketball  [removed]    Micah lancaster checklist"
      ]
     },
     "execution_count": 77,
     "metadata": {},
     "output_type": "execute_result"
    }
   ],
   "source": [
    "df10_bball = pd.DataFrame(posts_bball)\n",
    "print(df10_bball.shape)\n",
    "df10_bball[['subreddit', 'selftext', 'title']].head()"
   ]
  },
  {
   "cell_type": "code",
   "execution_count": 78,
   "metadata": {},
   "outputs": [
    {
     "data": {
      "text/plain": [
       "(1000, 74)"
      ]
     },
     "execution_count": 78,
     "metadata": {},
     "output_type": "execute_result"
    }
   ],
   "source": [
    "# Final Basketball Subreddit Dataframe Concat\n",
    "frames_bball = [df_bball, df2_bball, df3_bball, df4_bball, df5_bball, df6_bball, df7_bball, df8_bball, df9_bball, df10_bball]\n",
    "basketball = pd.concat(frames_bball)\n",
    "basketball.shape"
   ]
  },
  {
   "cell_type": "code",
   "execution_count": 79,
   "metadata": {},
   "outputs": [
    {
     "data": {
      "text/html": [
       "<div>\n",
       "<style scoped>\n",
       "    .dataframe tbody tr th:only-of-type {\n",
       "        vertical-align: middle;\n",
       "    }\n",
       "\n",
       "    .dataframe tbody tr th {\n",
       "        vertical-align: top;\n",
       "    }\n",
       "\n",
       "    .dataframe thead th {\n",
       "        text-align: right;\n",
       "    }\n",
       "</style>\n",
       "<table border=\"1\" class=\"dataframe\">\n",
       "  <thead>\n",
       "    <tr style=\"text-align: right;\">\n",
       "      <th></th>\n",
       "      <th>all_awardings</th>\n",
       "      <th>allow_live_comments</th>\n",
       "      <th>author</th>\n",
       "      <th>author_flair_css_class</th>\n",
       "      <th>author_flair_richtext</th>\n",
       "      <th>author_flair_text</th>\n",
       "      <th>author_flair_type</th>\n",
       "      <th>author_fullname</th>\n",
       "      <th>author_patreon_flair</th>\n",
       "      <th>author_premium</th>\n",
       "      <th>...</th>\n",
       "      <th>thumbnail_height</th>\n",
       "      <th>thumbnail_width</th>\n",
       "      <th>url_overridden_by_dest</th>\n",
       "      <th>link_flair_template_id</th>\n",
       "      <th>link_flair_text</th>\n",
       "      <th>crosspost_parent</th>\n",
       "      <th>crosspost_parent_list</th>\n",
       "      <th>author_flair_background_color</th>\n",
       "      <th>author_flair_text_color</th>\n",
       "      <th>distinguished</th>\n",
       "    </tr>\n",
       "  </thead>\n",
       "  <tbody>\n",
       "    <tr>\n",
       "      <th>0</th>\n",
       "      <td>[]</td>\n",
       "      <td>False</td>\n",
       "      <td>mightypurp</td>\n",
       "      <td>None</td>\n",
       "      <td>[]</td>\n",
       "      <td>None</td>\n",
       "      <td>text</td>\n",
       "      <td>t2_3kzkdsxr</td>\n",
       "      <td>False</td>\n",
       "      <td>False</td>\n",
       "      <td>...</td>\n",
       "      <td>NaN</td>\n",
       "      <td>NaN</td>\n",
       "      <td>NaN</td>\n",
       "      <td>NaN</td>\n",
       "      <td>NaN</td>\n",
       "      <td>NaN</td>\n",
       "      <td>NaN</td>\n",
       "      <td>NaN</td>\n",
       "      <td>NaN</td>\n",
       "      <td>NaN</td>\n",
       "    </tr>\n",
       "    <tr>\n",
       "      <th>1</th>\n",
       "      <td>[]</td>\n",
       "      <td>False</td>\n",
       "      <td>benhurkf</td>\n",
       "      <td>None</td>\n",
       "      <td>[]</td>\n",
       "      <td>None</td>\n",
       "      <td>text</td>\n",
       "      <td>t2_4z8f001c</td>\n",
       "      <td>False</td>\n",
       "      <td>False</td>\n",
       "      <td>...</td>\n",
       "      <td>105.0</td>\n",
       "      <td>140.0</td>\n",
       "      <td>https://www.youtube.com/watch?v=Kg9cdFMDCUM</td>\n",
       "      <td>NaN</td>\n",
       "      <td>NaN</td>\n",
       "      <td>NaN</td>\n",
       "      <td>NaN</td>\n",
       "      <td>NaN</td>\n",
       "      <td>NaN</td>\n",
       "      <td>NaN</td>\n",
       "    </tr>\n",
       "    <tr>\n",
       "      <th>2</th>\n",
       "      <td>[]</td>\n",
       "      <td>False</td>\n",
       "      <td>heyilya</td>\n",
       "      <td>None</td>\n",
       "      <td>[]</td>\n",
       "      <td>None</td>\n",
       "      <td>text</td>\n",
       "      <td>t2_7m3yp8i8</td>\n",
       "      <td>False</td>\n",
       "      <td>False</td>\n",
       "      <td>...</td>\n",
       "      <td>105.0</td>\n",
       "      <td>140.0</td>\n",
       "      <td>https://www.youtube.com/watch?v=_yIWHtxNXeY</td>\n",
       "      <td>NaN</td>\n",
       "      <td>NaN</td>\n",
       "      <td>NaN</td>\n",
       "      <td>NaN</td>\n",
       "      <td>NaN</td>\n",
       "      <td>NaN</td>\n",
       "      <td>NaN</td>\n",
       "    </tr>\n",
       "    <tr>\n",
       "      <th>3</th>\n",
       "      <td>[]</td>\n",
       "      <td>False</td>\n",
       "      <td>heyilya</td>\n",
       "      <td>None</td>\n",
       "      <td>[]</td>\n",
       "      <td>None</td>\n",
       "      <td>text</td>\n",
       "      <td>t2_7m3yp8i8</td>\n",
       "      <td>False</td>\n",
       "      <td>False</td>\n",
       "      <td>...</td>\n",
       "      <td>105.0</td>\n",
       "      <td>140.0</td>\n",
       "      <td>https://www.youtube.com/watch?v=_yIWHtxNXeY</td>\n",
       "      <td>NaN</td>\n",
       "      <td>NaN</td>\n",
       "      <td>NaN</td>\n",
       "      <td>NaN</td>\n",
       "      <td>NaN</td>\n",
       "      <td>NaN</td>\n",
       "      <td>NaN</td>\n",
       "    </tr>\n",
       "    <tr>\n",
       "      <th>4</th>\n",
       "      <td>[]</td>\n",
       "      <td>False</td>\n",
       "      <td>fbbbbbbbbbbbb</td>\n",
       "      <td>None</td>\n",
       "      <td>[]</td>\n",
       "      <td>None</td>\n",
       "      <td>text</td>\n",
       "      <td>t2_6hlpri9y</td>\n",
       "      <td>False</td>\n",
       "      <td>False</td>\n",
       "      <td>...</td>\n",
       "      <td>NaN</td>\n",
       "      <td>NaN</td>\n",
       "      <td>NaN</td>\n",
       "      <td>a5ed1b00-6559-11e6-ab46-0e4704e28925</td>\n",
       "      <td>GENERAL QUESTION</td>\n",
       "      <td>NaN</td>\n",
       "      <td>NaN</td>\n",
       "      <td>NaN</td>\n",
       "      <td>NaN</td>\n",
       "      <td>NaN</td>\n",
       "    </tr>\n",
       "  </tbody>\n",
       "</table>\n",
       "<p>5 rows × 74 columns</p>\n",
       "</div>"
      ],
      "text/plain": [
       "  all_awardings  allow_live_comments         author author_flair_css_class  \\\n",
       "0            []                False     mightypurp                   None   \n",
       "1            []                False       benhurkf                   None   \n",
       "2            []                False        heyilya                   None   \n",
       "3            []                False        heyilya                   None   \n",
       "4            []                False  fbbbbbbbbbbbb                   None   \n",
       "\n",
       "  author_flair_richtext author_flair_text author_flair_type author_fullname  \\\n",
       "0                    []              None              text     t2_3kzkdsxr   \n",
       "1                    []              None              text     t2_4z8f001c   \n",
       "2                    []              None              text     t2_7m3yp8i8   \n",
       "3                    []              None              text     t2_7m3yp8i8   \n",
       "4                    []              None              text     t2_6hlpri9y   \n",
       "\n",
       "   author_patreon_flair  author_premium  ... thumbnail_height  \\\n",
       "0                 False           False  ...              NaN   \n",
       "1                 False           False  ...            105.0   \n",
       "2                 False           False  ...            105.0   \n",
       "3                 False           False  ...            105.0   \n",
       "4                 False           False  ...              NaN   \n",
       "\n",
       "   thumbnail_width                       url_overridden_by_dest  \\\n",
       "0              NaN                                          NaN   \n",
       "1            140.0  https://www.youtube.com/watch?v=Kg9cdFMDCUM   \n",
       "2            140.0  https://www.youtube.com/watch?v=_yIWHtxNXeY   \n",
       "3            140.0  https://www.youtube.com/watch?v=_yIWHtxNXeY   \n",
       "4              NaN                                          NaN   \n",
       "\n",
       "                 link_flair_template_id   link_flair_text crosspost_parent  \\\n",
       "0                                   NaN               NaN              NaN   \n",
       "1                                   NaN               NaN              NaN   \n",
       "2                                   NaN               NaN              NaN   \n",
       "3                                   NaN               NaN              NaN   \n",
       "4  a5ed1b00-6559-11e6-ab46-0e4704e28925  GENERAL QUESTION              NaN   \n",
       "\n",
       "  crosspost_parent_list author_flair_background_color  \\\n",
       "0                   NaN                           NaN   \n",
       "1                   NaN                           NaN   \n",
       "2                   NaN                           NaN   \n",
       "3                   NaN                           NaN   \n",
       "4                   NaN                           NaN   \n",
       "\n",
       "   author_flair_text_color  distinguished  \n",
       "0                      NaN            NaN  \n",
       "1                      NaN            NaN  \n",
       "2                      NaN            NaN  \n",
       "3                      NaN            NaN  \n",
       "4                      NaN            NaN  \n",
       "\n",
       "[5 rows x 74 columns]"
      ]
     },
     "execution_count": 79,
     "metadata": {},
     "output_type": "execute_result"
    }
   ],
   "source": [
    "# Final Basketball dataframe\n",
    "basketball.head()"
   ]
  },
  {
   "cell_type": "markdown",
   "metadata": {},
   "source": [
    "## Top 15 Common Words in Basketball Data"
   ]
  },
  {
   "cell_type": "code",
   "execution_count": 99,
   "metadata": {},
   "outputs": [],
   "source": [
    "basketball['title'] = basketball['title'].replace('\\nhttp\\S+', '', regex=True).replace('http\\S+', '', regex=True).replace('www\\S+', '', regex=True).replace('\\n\\n\\S+', '', regex=True).replace('\\n\\S+', '', regex=True).replace('#\\S+','', regex = True).replace('@\\S+', '', regex=True)\n"
   ]
  },
  {
   "cell_type": "code",
   "execution_count": 100,
   "metadata": {},
   "outputs": [],
   "source": [
    "def remove_punctuation(text):\n",
    "    lower = text.lower()  \n",
    "    exclude = string.punctuation\n",
    "    return \"\".join(ch for ch in lower if ch not in exclude)\n",
    "basketball['title'] = basketball['title'].apply(remove_punctuation)"
   ]
  },
  {
   "cell_type": "code",
   "execution_count": 101,
   "metadata": {},
   "outputs": [],
   "source": [
    "stemmer = PorterStemmer()\n",
    "def split_and_stem(string):\n",
    "    word = \"\"   \n",
    "    string = string.split(' ')\n",
    "    for i in string: \n",
    "        word += (stemmer.stem(i) + \" \")  \n",
    "    return word \n",
    "basketball['title'] = basketball['title'].apply(split_and_stem)"
   ]
  },
  {
   "cell_type": "code",
   "execution_count": 102,
   "metadata": {},
   "outputs": [],
   "source": [
    "cvec = CountVectorizer(stop_words='english')"
   ]
  },
  {
   "cell_type": "code",
   "execution_count": 103,
   "metadata": {},
   "outputs": [
    {
     "data": {
      "text/plain": [
       "CountVectorizer(stop_words='english')"
      ]
     },
     "execution_count": 103,
     "metadata": {},
     "output_type": "execute_result"
    }
   ],
   "source": [
    "cvec.fit(basketball['title'])"
   ]
  },
  {
   "cell_type": "code",
   "execution_count": 104,
   "metadata": {},
   "outputs": [],
   "source": [
    "basketball_cvec = cvec.transform(basketball['title'])"
   ]
  },
  {
   "cell_type": "code",
   "execution_count": 105,
   "metadata": {},
   "outputs": [],
   "source": [
    "cvec_basketball_df = pd.DataFrame(basketball_cvec.todense(), \n",
    "                          columns=cvec.get_feature_names())"
   ]
  },
  {
   "cell_type": "code",
   "execution_count": 109,
   "metadata": {},
   "outputs": [
    {
     "data": {
      "image/png": "[encoded data removed]",
      "text/plain": [
       "<Figure size 432x288 with 1 Axes>"
      ]
     },
     "metadata": {
      "needs_background": "light"
     },
     "output_type": "display_data"
    }
   ],
   "source": [
    "cvec_basketball_df.sum().sort_values(ascending=False).head(15).plot(kind='barh')\n",
    "plt.savefig('basketball_top_words.png');"
   ]
  },
  {
   "cell_type": "markdown",
   "metadata": {},
   "source": [
    "## Concatenate both Baseball and Basketball Dataframes"
   ]
  },
  {
   "cell_type": "code",
   "execution_count": 261,
   "metadata": {},
   "outputs": [
    {
     "data": {
      "text/plain": [
       "(2000, 82)"
      ]
     },
     "execution_count": 261,
     "metadata": {},
     "output_type": "execute_result"
    }
   ],
   "source": [
    "data = [baseball, basketball]\n",
    "baseball_basketball = pd.concat(data)\n",
    "baseball_basketball.shape"
   ]
  },
  {
   "cell_type": "code",
   "execution_count": 263,
   "metadata": {},
   "outputs": [
    {
     "data": {
      "text/plain": [
       "(2000, 3)"
      ]
     },
     "execution_count": 263,
     "metadata": {},
     "output_type": "execute_result"
    }
   ],
   "source": [
    "final_df = baseball_basketball[['subreddit', 'selftext', 'title']]\n",
    "final_df.shape"
   ]
  },
  {
   "cell_type": "code",
   "execution_count": 265,
   "metadata": {},
   "outputs": [
    {
     "data": {
      "text/plain": [
       "Basketball    1000\n",
       "baseball      1000\n",
       "Name: subreddit, dtype: int64"
      ]
     },
     "execution_count": 265,
     "metadata": {},
     "output_type": "execute_result"
    }
   ],
   "source": [
    "final_df['subreddit'].value_counts()"
   ]
  },
  {
   "cell_type": "markdown",
   "metadata": {},
   "source": [
    "## Final DataFrame to CSV"
   ]
  },
  {
   "cell_type": "code",
   "execution_count": 267,
   "metadata": {},
   "outputs": [],
   "source": [
    "final_df.to_csv('baseball_basketball.csv', index=False)"
   ]
  },
  {
   "cell_type": "code",
   "execution_count": null,
   "metadata": {},
   "outputs": [],
   "source": []
  }
 ],
 "metadata": {
  "kernelspec": {
   "display_name": "Python 3",
   "language": "python",
   "name": "python3"
  },
  "language_info": {
   "codemirror_mode": {
    "name": "ipython",
    "version": 3
   },
   "file_extension": ".py",
   "mimetype": "text/x-python",
   "name": "python",
   "nbconvert_exporter": "python",
   "pygments_lexer": "ipython3",
   "version": "3.8.3"
  }
 },
 "nbformat": 4,
 "nbformat_minor": 4
}
